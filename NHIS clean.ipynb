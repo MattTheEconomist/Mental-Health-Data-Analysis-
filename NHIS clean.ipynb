{
 "cells": [
  {
   "cell_type": "code",
   "execution_count": 1,
   "metadata": {},
   "outputs": [],
   "source": [
    "import pandas as pd \n",
    "import numpy as np\n",
    "import matplotlib.pyplot as plt\n",
    "import matplotlib\n",
    "%matplotlib inline\n",
    "import seaborn as sns"
   ]
  },
  {
   "cell_type": "code",
   "execution_count": 2,
   "metadata": {},
   "outputs": [],
   "source": [
    "sns.set_style('darkgrid')"
   ]
  },
  {
   "cell_type": "code",
   "execution_count": 3,
   "metadata": {},
   "outputs": [],
   "source": [
    "df = pd.read_csv('nhis 2003 - 2018.csv.gz')"
   ]
  },
  {
   "cell_type": "code",
   "execution_count": 4,
   "metadata": {},
   "outputs": [
    {
     "data": {
      "text/html": [
       "<div>\n",
       "<style scoped>\n",
       "    .dataframe tbody tr th:only-of-type {\n",
       "        vertical-align: middle;\n",
       "    }\n",
       "\n",
       "    .dataframe tbody tr th {\n",
       "        vertical-align: top;\n",
       "    }\n",
       "\n",
       "    .dataframe thead th {\n",
       "        text-align: right;\n",
       "    }\n",
       "</style>\n",
       "<table border=\"1\" class=\"dataframe\">\n",
       "  <thead>\n",
       "    <tr style=\"text-align: right;\">\n",
       "      <th></th>\n",
       "      <th>YEAR</th>\n",
       "      <th>SERIAL</th>\n",
       "      <th>STRATA</th>\n",
       "      <th>PSU</th>\n",
       "      <th>NHISHID</th>\n",
       "      <th>HHWEIGHT</th>\n",
       "      <th>REGION</th>\n",
       "      <th>LIVINGQTR</th>\n",
       "      <th>PERNUM</th>\n",
       "      <th>NHISPID</th>\n",
       "      <th>...</th>\n",
       "      <th>WRYMEDCST</th>\n",
       "      <th>WRYHOUS</th>\n",
       "      <th>WRYCCPAY</th>\n",
       "      <th>WRYHCCST</th>\n",
       "      <th>WRYRET</th>\n",
       "      <th>WRYCOLL</th>\n",
       "      <th>WRYBILLS</th>\n",
       "      <th>DEPFREQ</th>\n",
       "      <th>DEPRX</th>\n",
       "      <th>DEPFEELEVL</th>\n",
       "    </tr>\n",
       "  </thead>\n",
       "  <tbody>\n",
       "    <tr>\n",
       "      <td>0</td>\n",
       "      <td>2003</td>\n",
       "      <td>1</td>\n",
       "      <td>5015</td>\n",
       "      <td>2</td>\n",
       "      <td>2003000002</td>\n",
       "      <td>3384</td>\n",
       "      <td>3</td>\n",
       "      <td>21</td>\n",
       "      <td>1</td>\n",
       "      <td>20030000020101</td>\n",
       "      <td>...</td>\n",
       "      <td>NaN</td>\n",
       "      <td>NaN</td>\n",
       "      <td>NaN</td>\n",
       "      <td>NaN</td>\n",
       "      <td>NaN</td>\n",
       "      <td>NaN</td>\n",
       "      <td>NaN</td>\n",
       "      <td>NaN</td>\n",
       "      <td>NaN</td>\n",
       "      <td>NaN</td>\n",
       "    </tr>\n",
       "    <tr>\n",
       "      <td>1</td>\n",
       "      <td>2003</td>\n",
       "      <td>1</td>\n",
       "      <td>5015</td>\n",
       "      <td>2</td>\n",
       "      <td>2003000002</td>\n",
       "      <td>3384</td>\n",
       "      <td>3</td>\n",
       "      <td>21</td>\n",
       "      <td>2</td>\n",
       "      <td>20030000020102</td>\n",
       "      <td>...</td>\n",
       "      <td>NaN</td>\n",
       "      <td>NaN</td>\n",
       "      <td>NaN</td>\n",
       "      <td>NaN</td>\n",
       "      <td>NaN</td>\n",
       "      <td>NaN</td>\n",
       "      <td>NaN</td>\n",
       "      <td>NaN</td>\n",
       "      <td>NaN</td>\n",
       "      <td>NaN</td>\n",
       "    </tr>\n",
       "    <tr>\n",
       "      <td>2</td>\n",
       "      <td>2003</td>\n",
       "      <td>2</td>\n",
       "      <td>5133</td>\n",
       "      <td>1</td>\n",
       "      <td>2003000003</td>\n",
       "      <td>4848</td>\n",
       "      <td>2</td>\n",
       "      <td>21</td>\n",
       "      <td>1</td>\n",
       "      <td>20030000030101</td>\n",
       "      <td>...</td>\n",
       "      <td>NaN</td>\n",
       "      <td>NaN</td>\n",
       "      <td>NaN</td>\n",
       "      <td>NaN</td>\n",
       "      <td>NaN</td>\n",
       "      <td>NaN</td>\n",
       "      <td>NaN</td>\n",
       "      <td>NaN</td>\n",
       "      <td>NaN</td>\n",
       "      <td>NaN</td>\n",
       "    </tr>\n",
       "    <tr>\n",
       "      <td>3</td>\n",
       "      <td>2003</td>\n",
       "      <td>2</td>\n",
       "      <td>5133</td>\n",
       "      <td>1</td>\n",
       "      <td>2003000003</td>\n",
       "      <td>4848</td>\n",
       "      <td>2</td>\n",
       "      <td>21</td>\n",
       "      <td>2</td>\n",
       "      <td>20030000030102</td>\n",
       "      <td>...</td>\n",
       "      <td>NaN</td>\n",
       "      <td>NaN</td>\n",
       "      <td>NaN</td>\n",
       "      <td>NaN</td>\n",
       "      <td>NaN</td>\n",
       "      <td>NaN</td>\n",
       "      <td>NaN</td>\n",
       "      <td>NaN</td>\n",
       "      <td>NaN</td>\n",
       "      <td>NaN</td>\n",
       "    </tr>\n",
       "    <tr>\n",
       "      <td>4</td>\n",
       "      <td>2003</td>\n",
       "      <td>2</td>\n",
       "      <td>5133</td>\n",
       "      <td>1</td>\n",
       "      <td>2003000003</td>\n",
       "      <td>4848</td>\n",
       "      <td>2</td>\n",
       "      <td>21</td>\n",
       "      <td>3</td>\n",
       "      <td>20030000030103</td>\n",
       "      <td>...</td>\n",
       "      <td>NaN</td>\n",
       "      <td>NaN</td>\n",
       "      <td>NaN</td>\n",
       "      <td>NaN</td>\n",
       "      <td>NaN</td>\n",
       "      <td>NaN</td>\n",
       "      <td>NaN</td>\n",
       "      <td>NaN</td>\n",
       "      <td>NaN</td>\n",
       "      <td>NaN</td>\n",
       "    </tr>\n",
       "  </tbody>\n",
       "</table>\n",
       "<p>5 rows × 59 columns</p>\n",
       "</div>"
      ],
      "text/plain": [
       "   YEAR  SERIAL  STRATA  PSU     NHISHID  HHWEIGHT  REGION  LIVINGQTR  PERNUM  \\\n",
       "0  2003       1    5015    2  2003000002      3384       3         21       1   \n",
       "1  2003       1    5015    2  2003000002      3384       3         21       2   \n",
       "2  2003       2    5133    1  2003000003      4848       2         21       1   \n",
       "3  2003       2    5133    1  2003000003      4848       2         21       2   \n",
       "4  2003       2    5133    1  2003000003      4848       2         21       3   \n",
       "\n",
       "          NHISPID  ...  WRYMEDCST  WRYHOUS  WRYCCPAY  WRYHCCST  WRYRET  \\\n",
       "0  20030000020101  ...        NaN      NaN       NaN       NaN     NaN   \n",
       "1  20030000020102  ...        NaN      NaN       NaN       NaN     NaN   \n",
       "2  20030000030101  ...        NaN      NaN       NaN       NaN     NaN   \n",
       "3  20030000030102  ...        NaN      NaN       NaN       NaN     NaN   \n",
       "4  20030000030103  ...        NaN      NaN       NaN       NaN     NaN   \n",
       "\n",
       "   WRYCOLL  WRYBILLS  DEPFREQ  DEPRX  DEPFEELEVL  \n",
       "0      NaN       NaN      NaN    NaN         NaN  \n",
       "1      NaN       NaN      NaN    NaN         NaN  \n",
       "2      NaN       NaN      NaN    NaN         NaN  \n",
       "3      NaN       NaN      NaN    NaN         NaN  \n",
       "4      NaN       NaN      NaN    NaN         NaN  \n",
       "\n",
       "[5 rows x 59 columns]"
      ]
     },
     "execution_count": 4,
     "metadata": {},
     "output_type": "execute_result"
    }
   ],
   "source": [
    "df.head()"
   ]
  },
  {
   "cell_type": "code",
   "execution_count": 5,
   "metadata": {},
   "outputs": [
    {
     "data": {
      "text/plain": [
       "count    1.467895e+06\n",
       "mean     2.010572e+03\n",
       "std      4.523132e+00\n",
       "min      2.003000e+03\n",
       "25%      2.007000e+03\n",
       "50%      2.011000e+03\n",
       "75%      2.014000e+03\n",
       "max      2.018000e+03\n",
       "Name: YEAR, dtype: float64"
      ]
     },
     "execution_count": 5,
     "metadata": {},
     "output_type": "execute_result"
    }
   ],
   "source": [
    "df['YEAR'].describe()"
   ]
  },
  {
   "cell_type": "code",
   "execution_count": 6,
   "metadata": {},
   "outputs": [
    {
     "data": {
      "text/plain": [
       "0.0"
      ]
     },
     "execution_count": 6,
     "metadata": {},
     "output_type": "execute_result"
    }
   ],
   "source": [
    "df['YEAR'].isnull().sum()/len(df)"
   ]
  },
  {
   "cell_type": "markdown",
   "metadata": {},
   "source": [
    "# Filter Respondands Ages 25-40"
   ]
  },
  {
   "cell_type": "code",
   "execution_count": null,
   "metadata": {},
   "outputs": [],
   "source": []
  },
  {
   "cell_type": "code",
   "execution_count": 7,
   "metadata": {},
   "outputs": [
    {
     "data": {
      "text/plain": [
       "count    1.467895e+06\n",
       "mean     3.662429e+01\n",
       "std      2.265610e+01\n",
       "min      0.000000e+00\n",
       "25%      1.700000e+01\n",
       "50%      3.600000e+01\n",
       "75%      5.400000e+01\n",
       "max      8.500000e+01\n",
       "Name: AGE, dtype: float64"
      ]
     },
     "execution_count": 7,
     "metadata": {},
     "output_type": "execute_result"
    }
   ],
   "source": [
    "df['AGE'].describe()"
   ]
  },
  {
   "cell_type": "code",
   "execution_count": 8,
   "metadata": {},
   "outputs": [],
   "source": [
    "df2 = df[df['AGE']>=25]"
   ]
  },
  {
   "cell_type": "code",
   "execution_count": 9,
   "metadata": {},
   "outputs": [],
   "source": [
    "df2 = df2[df2['AGE']<=40]"
   ]
  },
  {
   "cell_type": "code",
   "execution_count": 10,
   "metadata": {},
   "outputs": [
    {
     "data": {
      "text/plain": [
       "count    314550.000000\n",
       "mean         32.590974\n",
       "std           4.624549\n",
       "min          25.000000\n",
       "25%          29.000000\n",
       "50%          33.000000\n",
       "75%          37.000000\n",
       "max          40.000000\n",
       "Name: AGE, dtype: float64"
      ]
     },
     "execution_count": 10,
     "metadata": {},
     "output_type": "execute_result"
    }
   ],
   "source": [
    "df = df2\n",
    "df['AGE'].describe()"
   ]
  },
  {
   "cell_type": "markdown",
   "metadata": {},
   "source": [
    "# Drop Missing Income Rows"
   ]
  },
  {
   "cell_type": "code",
   "execution_count": 11,
   "metadata": {},
   "outputs": [],
   "source": [
    "df['INCOME_PERSON'] =df['INCIMPPOINT5']/df['PERNUM']"
   ]
  },
  {
   "cell_type": "code",
   "execution_count": 12,
   "metadata": {},
   "outputs": [
    {
     "name": "stdout",
     "output_type": "stream",
     "text": [
      "36.1% percent of observations are missing income\n"
     ]
    }
   ],
   "source": [
    "g = df['INCOME_PERSON'].isna().sum()/len(df)\n",
    "print('{:.1%}'.format(g) +' percent of observations are missing income')"
   ]
  },
  {
   "cell_type": "code",
   "execution_count": 13,
   "metadata": {},
   "outputs": [
    {
     "data": {
      "text/plain": [
       "-0.36127483706882846"
      ]
     },
     "execution_count": 13,
     "metadata": {},
     "output_type": "execute_result"
    }
   ],
   "source": [
    "before = len(df)\n",
    "df=df.dropna(subset=['INCOME_PERSON'])\n",
    "after = len(df)\n",
    "(after/before)-1"
   ]
  },
  {
   "cell_type": "markdown",
   "metadata": {},
   "source": [
    "# Clean Mental Health Variables"
   ]
  },
  {
   "cell_type": "code",
   "execution_count": 14,
   "metadata": {},
   "outputs": [],
   "source": [
    "df0 = df"
   ]
  },
  {
   "cell_type": "code",
   "execution_count": 15,
   "metadata": {},
   "outputs": [
    {
     "data": {
      "text/html": [
       "<div>\n",
       "<style scoped>\n",
       "    .dataframe tbody tr th:only-of-type {\n",
       "        vertical-align: middle;\n",
       "    }\n",
       "\n",
       "    .dataframe tbody tr th {\n",
       "        vertical-align: top;\n",
       "    }\n",
       "\n",
       "    .dataframe thead th {\n",
       "        text-align: right;\n",
       "    }\n",
       "</style>\n",
       "<table border=\"1\" class=\"dataframe\">\n",
       "  <thead>\n",
       "    <tr style=\"text-align: right;\">\n",
       "      <th></th>\n",
       "      <th>YBARMENTAL values</th>\n",
       "      <th>YBARMENTAL counts</th>\n",
       "    </tr>\n",
       "  </thead>\n",
       "  <tbody>\n",
       "    <tr>\n",
       "      <td>0</td>\n",
       "      <td>0</td>\n",
       "      <td>116144</td>\n",
       "    </tr>\n",
       "    <tr>\n",
       "      <td>1</td>\n",
       "      <td>1</td>\n",
       "      <td>81092</td>\n",
       "    </tr>\n",
       "    <tr>\n",
       "      <td>2</td>\n",
       "      <td>2</td>\n",
       "      <td>2896</td>\n",
       "    </tr>\n",
       "    <tr>\n",
       "      <td>3</td>\n",
       "      <td>8</td>\n",
       "      <td>720</td>\n",
       "    </tr>\n",
       "    <tr>\n",
       "      <td>4</td>\n",
       "      <td>7</td>\n",
       "      <td>41</td>\n",
       "    </tr>\n",
       "    <tr>\n",
       "      <td>5</td>\n",
       "      <td>9</td>\n",
       "      <td>18</td>\n",
       "    </tr>\n",
       "  </tbody>\n",
       "</table>\n",
       "</div>"
      ],
      "text/plain": [
       "   YBARMENTAL values  YBARMENTAL counts\n",
       "0                  0             116144\n",
       "1                  1              81092\n",
       "2                  2               2896\n",
       "3                  8                720\n",
       "4                  7                 41\n",
       "5                  9                 18"
      ]
     },
     "execution_count": 15,
     "metadata": {},
     "output_type": "execute_result"
    }
   ],
   "source": [
    "result = df['YBARMENTAL'].value_counts().reset_index()\n",
    "result.columns = ['YBARMENTAL values', 'YBARMENTAL counts']\n",
    "result"
   ]
  },
  {
   "cell_type": "code",
   "execution_count": 16,
   "metadata": {},
   "outputs": [],
   "source": [
    "def addCols(col):\n",
    "    temp =df[col].value_counts().reset_index()\n",
    "    col1, col2 = col +' values', col+' counts'\n",
    "    temp.columns = [col1, col2]\n",
    "    result[col1], result[col2] = temp[col1], temp[col2]\n",
    "    return temp"
   ]
  },
  {
   "cell_type": "code",
   "execution_count": 17,
   "metadata": {},
   "outputs": [
    {
     "data": {
      "text/html": [
       "<div>\n",
       "<style scoped>\n",
       "    .dataframe tbody tr th:only-of-type {\n",
       "        vertical-align: middle;\n",
       "    }\n",
       "\n",
       "    .dataframe tbody tr th {\n",
       "        vertical-align: top;\n",
       "    }\n",
       "\n",
       "    .dataframe thead th {\n",
       "        text-align: right;\n",
       "    }\n",
       "</style>\n",
       "<table border=\"1\" class=\"dataframe\">\n",
       "  <thead>\n",
       "    <tr style=\"text-align: right;\">\n",
       "      <th></th>\n",
       "      <th>YBARMENTAL values</th>\n",
       "      <th>YBARMENTAL counts</th>\n",
       "      <th>SAWMENT values</th>\n",
       "      <th>SAWMENT counts</th>\n",
       "      <th>AWORTHLESS values</th>\n",
       "      <th>AWORTHLESS counts</th>\n",
       "      <th>ASAD values</th>\n",
       "      <th>ASAD counts</th>\n",
       "    </tr>\n",
       "  </thead>\n",
       "  <tbody>\n",
       "    <tr>\n",
       "      <td>0</td>\n",
       "      <td>0</td>\n",
       "      <td>116144</td>\n",
       "      <td>0</td>\n",
       "      <td>116144</td>\n",
       "      <td>6</td>\n",
       "      <td>116144</td>\n",
       "      <td>6</td>\n",
       "      <td>116144</td>\n",
       "    </tr>\n",
       "    <tr>\n",
       "      <td>1</td>\n",
       "      <td>1</td>\n",
       "      <td>81092</td>\n",
       "      <td>1</td>\n",
       "      <td>75737</td>\n",
       "      <td>0</td>\n",
       "      <td>74483</td>\n",
       "      <td>0</td>\n",
       "      <td>62601</td>\n",
       "    </tr>\n",
       "    <tr>\n",
       "      <td>2</td>\n",
       "      <td>2</td>\n",
       "      <td>2896</td>\n",
       "      <td>2</td>\n",
       "      <td>8082</td>\n",
       "      <td>1</td>\n",
       "      <td>4261</td>\n",
       "      <td>1</td>\n",
       "      <td>11700</td>\n",
       "    </tr>\n",
       "    <tr>\n",
       "      <td>3</td>\n",
       "      <td>8</td>\n",
       "      <td>720</td>\n",
       "      <td>8</td>\n",
       "      <td>866</td>\n",
       "      <td>2</td>\n",
       "      <td>2940</td>\n",
       "      <td>2</td>\n",
       "      <td>6453</td>\n",
       "    </tr>\n",
       "    <tr>\n",
       "      <td>4</td>\n",
       "      <td>7</td>\n",
       "      <td>41</td>\n",
       "      <td>7</td>\n",
       "      <td>66</td>\n",
       "      <td>8</td>\n",
       "      <td>1369</td>\n",
       "      <td>3</td>\n",
       "      <td>1698</td>\n",
       "    </tr>\n",
       "    <tr>\n",
       "      <td>5</td>\n",
       "      <td>9</td>\n",
       "      <td>18</td>\n",
       "      <td>9</td>\n",
       "      <td>16</td>\n",
       "      <td>3</td>\n",
       "      <td>845</td>\n",
       "      <td>8</td>\n",
       "      <td>1338</td>\n",
       "    </tr>\n",
       "  </tbody>\n",
       "</table>\n",
       "</div>"
      ],
      "text/plain": [
       "   YBARMENTAL values  YBARMENTAL counts  SAWMENT values  SAWMENT counts  \\\n",
       "0                  0             116144               0          116144   \n",
       "1                  1              81092               1           75737   \n",
       "2                  2               2896               2            8082   \n",
       "3                  8                720               8             866   \n",
       "4                  7                 41               7              66   \n",
       "5                  9                 18               9              16   \n",
       "\n",
       "   AWORTHLESS values  AWORTHLESS counts  ASAD values  ASAD counts  \n",
       "0                  6             116144            6       116144  \n",
       "1                  0              74483            0        62601  \n",
       "2                  1               4261            1        11700  \n",
       "3                  2               2940            2         6453  \n",
       "4                  8               1369            3         1698  \n",
       "5                  3                845            8         1338  "
      ]
     },
     "execution_count": 17,
     "metadata": {},
     "output_type": "execute_result"
    }
   ],
   "source": [
    "for column in ['SAWMENT','AWORTHLESS','ASAD']:\n",
    "    addCols(column)\n",
    "result"
   ]
  },
  {
   "cell_type": "markdown",
   "metadata": {},
   "source": [
    "Lots of these variables have missing data. For some variables it's values [0,7,8,9], for other variables it's svalues [6,7,8,9]"
   ]
  },
  {
   "cell_type": "code",
   "execution_count": 18,
   "metadata": {},
   "outputs": [
    {
     "data": {
      "text/plain": [
       "<PandasArray>\n",
       "[ 510976,  510979,  510982,  510983,  510999,  511000,  511004,  511009,\n",
       "  511010,  511015,\n",
       " ...\n",
       " 1467862, 1467867, 1467868, 1467869, 1467874, 1467877, 1467878, 1467882,\n",
       " 1467883, 1467891]\n",
       "Length: 200911, dtype: int64"
      ]
     },
     "execution_count": 18,
     "metadata": {},
     "output_type": "execute_result"
    }
   ],
   "source": [
    "OriginL = len(df)\n",
    "OriginArray = df.index.array\n",
    "OriginArray"
   ]
  },
  {
   "cell_type": "code",
   "execution_count": 19,
   "metadata": {},
   "outputs": [],
   "source": [
    "LossTracker = pd.DataFrame(np.arange(72).reshape((24,3)))\n",
    "LossTracker.rename(columns={0: \"Variable Cleaned\",1: \"Obs Remaining\", 2:\"Dropped from Origin\"}, inplace=True)\n",
    "varCounter = 1\n",
    "LossTracker.iloc[0,0] = \"Starting Value\"\n",
    "LossTracker.iloc[0,1] = OriginL\n",
    "LossTracker.iloc[0,2] = 0"
   ]
  },
  {
   "cell_type": "code",
   "execution_count": 20,
   "metadata": {},
   "outputs": [
    {
     "data": {
      "text/html": [
       "<div>\n",
       "<style scoped>\n",
       "    .dataframe tbody tr th:only-of-type {\n",
       "        vertical-align: middle;\n",
       "    }\n",
       "\n",
       "    .dataframe tbody tr th {\n",
       "        vertical-align: top;\n",
       "    }\n",
       "\n",
       "    .dataframe thead th {\n",
       "        text-align: right;\n",
       "    }\n",
       "</style>\n",
       "<table border=\"1\" class=\"dataframe\">\n",
       "  <thead>\n",
       "    <tr style=\"text-align: right;\">\n",
       "      <th></th>\n",
       "      <th>Variable Cleaned</th>\n",
       "      <th>Obs Remaining</th>\n",
       "      <th>Dropped from Origin</th>\n",
       "    </tr>\n",
       "  </thead>\n",
       "  <tbody>\n",
       "    <tr>\n",
       "      <td>0</td>\n",
       "      <td>Starting Value</td>\n",
       "      <td>200911</td>\n",
       "      <td>0</td>\n",
       "    </tr>\n",
       "    <tr>\n",
       "      <td>1</td>\n",
       "      <td>3</td>\n",
       "      <td>4</td>\n",
       "      <td>5</td>\n",
       "    </tr>\n",
       "    <tr>\n",
       "      <td>2</td>\n",
       "      <td>6</td>\n",
       "      <td>7</td>\n",
       "      <td>8</td>\n",
       "    </tr>\n",
       "    <tr>\n",
       "      <td>3</td>\n",
       "      <td>9</td>\n",
       "      <td>10</td>\n",
       "      <td>11</td>\n",
       "    </tr>\n",
       "    <tr>\n",
       "      <td>4</td>\n",
       "      <td>12</td>\n",
       "      <td>13</td>\n",
       "      <td>14</td>\n",
       "    </tr>\n",
       "  </tbody>\n",
       "</table>\n",
       "</div>"
      ],
      "text/plain": [
       "  Variable Cleaned  Obs Remaining  Dropped from Origin\n",
       "0   Starting Value         200911                    0\n",
       "1                3              4                    5\n",
       "2                6              7                    8\n",
       "3                9             10                   11\n",
       "4               12             13                   14"
      ]
     },
     "execution_count": 20,
     "metadata": {},
     "output_type": "execute_result"
    }
   ],
   "source": [
    "LossTracker.head()"
   ]
  },
  {
   "cell_type": "markdown",
   "metadata": {},
   "source": [
    "this resulting dataframe will be populated with mental health variables after missing values have been removed "
   ]
  },
  {
   "cell_type": "code",
   "execution_count": 21,
   "metadata": {},
   "outputs": [],
   "source": [
    "df0=df"
   ]
  },
  {
   "cell_type": "code",
   "execution_count": 22,
   "metadata": {},
   "outputs": [],
   "source": [
    "k6List = ['AWORTHLESS','AEFFORT','AHOPELESS','ASAD','ANERVOUS','ARESTLESS']"
   ]
  },
  {
   "cell_type": "code",
   "execution_count": 23,
   "metadata": {},
   "outputs": [],
   "source": [
    "obsRemaining = []\n",
    "droppedFromOrigin = []\n",
    "varUsed = []\n",
    "\n",
    "for var in k6List  :\n",
    "    varUsed.append(var)\n",
    "    toDelete =  ((df0[(df0[var] == 6) | (df0[var] == 7) | (df0[var] == 8) | (df0[var] == 9)]).index)\n",
    "    df =  df[(df[var] != 6) & (df[var] != 7) & (df[var] != 8) & (df[var] != 9)]\n",
    "    obsRemaining.append(len(df))\n",
    "    droppedFromOrigin.append(len(toDelete.intersection(OriginArray)))"
   ]
  },
  {
   "cell_type": "code",
   "execution_count": 24,
   "metadata": {},
   "outputs": [],
   "source": [
    "otherMentalVars = ['YBARMENTAL','SAWMENT']"
   ]
  },
  {
   "cell_type": "code",
   "execution_count": 25,
   "metadata": {},
   "outputs": [],
   "source": [
    "#varsNotUsed  = ['DEPFREQ','DEPFELEVL','DEPRX','WORFREQ','WORRX','WORFEELEVL']"
   ]
  },
  {
   "cell_type": "code",
   "execution_count": 26,
   "metadata": {},
   "outputs": [],
   "source": [
    "\n",
    "for var in otherMentalVars  :\n",
    "    varUsed.append(var)\n",
    "    toDelete =  ((df0[(df0[var] == 0) | (df0[var] == 7) | (df0[var] == 8) | (df0[var] == 9)]).index)\n",
    "    df =  df[(df[var] != 0) & (df[var] != 7) & (df[var] != 8) & (df[var] != 9)]\n",
    "    obsRemaining.append(len(df))\n",
    "    droppedFromOrigin.append(len(toDelete.intersection(OriginArray)))\n",
    "    \n"
   ]
  },
  {
   "cell_type": "code",
   "execution_count": 27,
   "metadata": {},
   "outputs": [],
   "source": [
    "LossTracker.iloc[1:len(varUsed)+1,0] = varUsed\n",
    "LossTracker.iloc[1:len(obsRemaining)+1,1] = obsRemaining\n",
    "LossTracker.iloc[1:len(droppedFromOrigin)+1,2] = droppedFromOrigin"
   ]
  },
  {
   "cell_type": "code",
   "execution_count": 28,
   "metadata": {},
   "outputs": [
    {
     "data": {
      "text/html": [
       "<div>\n",
       "<style scoped>\n",
       "    .dataframe tbody tr th:only-of-type {\n",
       "        vertical-align: middle;\n",
       "    }\n",
       "\n",
       "    .dataframe tbody tr th {\n",
       "        vertical-align: top;\n",
       "    }\n",
       "\n",
       "    .dataframe thead th {\n",
       "        text-align: right;\n",
       "    }\n",
       "</style>\n",
       "<table border=\"1\" class=\"dataframe\">\n",
       "  <thead>\n",
       "    <tr style=\"text-align: right;\">\n",
       "      <th></th>\n",
       "      <th>Variable Cleaned</th>\n",
       "      <th>Obs Remaining</th>\n",
       "      <th>Dropped from Origin</th>\n",
       "    </tr>\n",
       "  </thead>\n",
       "  <tbody>\n",
       "    <tr>\n",
       "      <td>0</td>\n",
       "      <td>Starting Value</td>\n",
       "      <td>200911</td>\n",
       "      <td>0</td>\n",
       "    </tr>\n",
       "    <tr>\n",
       "      <td>1</td>\n",
       "      <td>AWORTHLESS</td>\n",
       "      <td>83096</td>\n",
       "      <td>117815</td>\n",
       "    </tr>\n",
       "    <tr>\n",
       "      <td>2</td>\n",
       "      <td>AEFFORT</td>\n",
       "      <td>83013</td>\n",
       "      <td>117869</td>\n",
       "    </tr>\n",
       "    <tr>\n",
       "      <td>3</td>\n",
       "      <td>AHOPELESS</td>\n",
       "      <td>82994</td>\n",
       "      <td>117803</td>\n",
       "    </tr>\n",
       "    <tr>\n",
       "      <td>4</td>\n",
       "      <td>ASAD</td>\n",
       "      <td>82967</td>\n",
       "      <td>117775</td>\n",
       "    </tr>\n",
       "    <tr>\n",
       "      <td>5</td>\n",
       "      <td>ANERVOUS</td>\n",
       "      <td>82958</td>\n",
       "      <td>117769</td>\n",
       "    </tr>\n",
       "    <tr>\n",
       "      <td>6</td>\n",
       "      <td>ARESTLESS</td>\n",
       "      <td>82945</td>\n",
       "      <td>117792</td>\n",
       "    </tr>\n",
       "    <tr>\n",
       "      <td>7</td>\n",
       "      <td>YBARMENTAL</td>\n",
       "      <td>82640</td>\n",
       "      <td>116923</td>\n",
       "    </tr>\n",
       "    <tr>\n",
       "      <td>8</td>\n",
       "      <td>SAWMENT</td>\n",
       "      <td>82561</td>\n",
       "      <td>117092</td>\n",
       "    </tr>\n",
       "  </tbody>\n",
       "</table>\n",
       "</div>"
      ],
      "text/plain": [
       "  Variable Cleaned  Obs Remaining  Dropped from Origin\n",
       "0   Starting Value         200911                    0\n",
       "1       AWORTHLESS          83096               117815\n",
       "2          AEFFORT          83013               117869\n",
       "3        AHOPELESS          82994               117803\n",
       "4             ASAD          82967               117775\n",
       "5         ANERVOUS          82958               117769\n",
       "6        ARESTLESS          82945               117792\n",
       "7       YBARMENTAL          82640               116923\n",
       "8          SAWMENT          82561               117092"
      ]
     },
     "execution_count": 28,
     "metadata": {},
     "output_type": "execute_result"
    }
   ],
   "source": [
    "LossTracker.head(9)"
   ]
  },
  {
   "cell_type": "markdown",
   "metadata": {},
   "source": [
    "The \"Obs Remaining\" column shows how many observations are remaining once this particular variable is cleaned (missing values removed). As you traverse down this column the marginal difference is small. We can infer that most of the survey respondants are missing all of these variables together, as opposed to one particular variable more than the others. \n",
    "\n",
    "the \"Dropped from Origin\" column shows how many observations would be remaining if this were the only variable that were cleaned. Again, there is not much change between variables indicating most respondants are missing all of these questions together, as opposed to ommiting one particular question. "
   ]
  },
  {
   "cell_type": "code",
   "execution_count": 29,
   "metadata": {},
   "outputs": [
    {
     "data": {
      "text/plain": [
       "<matplotlib.axes._subplots.AxesSubplot at 0x25cdfe70b48>"
      ]
     },
     "execution_count": 29,
     "metadata": {},
     "output_type": "execute_result"
    },
    {
     "data": {
      "image/png": "[encoded data removed]",
      "text/plain": [
       "<Figure size 432x288 with 1 Axes>"
      ]
     },
     "metadata": {},
     "output_type": "display_data"
    }
   ],
   "source": [
    "yeardf  = pd.DataFrame(df['YEAR'].value_counts())\n",
    "yeardf = yeardf.reset_index()\n",
    "yeardf = yeardf.rename(columns={'YEAR': \"count\",'index':'year'})\n",
    "yeardf = yeardf.sort_values(by='year')\n",
    "yeardf.plot(x='year',y='count')"
   ]
  },
  {
   "cell_type": "markdown",
   "metadata": {},
   "source": [
    "Once the data is cleaned there is a steep drop-off in observations starting in 2014"
   ]
  },
  {
   "cell_type": "code",
   "execution_count": null,
   "metadata": {},
   "outputs": [],
   "source": []
  },
  {
   "cell_type": "code",
   "execution_count": null,
   "metadata": {},
   "outputs": [],
   "source": []
  },
  {
   "cell_type": "markdown",
   "metadata": {},
   "source": [
    "# Create k6 Variable\n"
   ]
  },
  {
   "cell_type": "code",
   "execution_count": 30,
   "metadata": {},
   "outputs": [
    {
     "data": {
      "text/html": [
       "<div>\n",
       "<style scoped>\n",
       "    .dataframe tbody tr th:only-of-type {\n",
       "        vertical-align: middle;\n",
       "    }\n",
       "\n",
       "    .dataframe tbody tr th {\n",
       "        vertical-align: top;\n",
       "    }\n",
       "\n",
       "    .dataframe thead th {\n",
       "        text-align: right;\n",
       "    }\n",
       "</style>\n",
       "<table border=\"1\" class=\"dataframe\">\n",
       "  <thead>\n",
       "    <tr style=\"text-align: right;\">\n",
       "      <th></th>\n",
       "      <th>ANERVOUS</th>\n",
       "      <th>AHOPELESS</th>\n",
       "      <th>ARESTLESS</th>\n",
       "      <th>ASAD</th>\n",
       "      <th>AEFFORT</th>\n",
       "      <th>AWORTHLESS</th>\n",
       "    </tr>\n",
       "  </thead>\n",
       "  <tbody>\n",
       "    <tr>\n",
       "      <td>count</td>\n",
       "      <td>82561.000000</td>\n",
       "      <td>82561.000000</td>\n",
       "      <td>82561.000000</td>\n",
       "      <td>82561.000000</td>\n",
       "      <td>82561.000000</td>\n",
       "      <td>82561.000000</td>\n",
       "    </tr>\n",
       "    <tr>\n",
       "      <td>mean</td>\n",
       "      <td>0.664890</td>\n",
       "      <td>0.241458</td>\n",
       "      <td>0.676579</td>\n",
       "      <td>0.388949</td>\n",
       "      <td>0.563377</td>\n",
       "      <td>0.179516</td>\n",
       "    </tr>\n",
       "    <tr>\n",
       "      <td>std</td>\n",
       "      <td>0.964922</td>\n",
       "      <td>0.674992</td>\n",
       "      <td>1.039506</td>\n",
       "      <td>0.782330</td>\n",
       "      <td>1.022296</td>\n",
       "      <td>0.599907</td>\n",
       "    </tr>\n",
       "    <tr>\n",
       "      <td>min</td>\n",
       "      <td>0.000000</td>\n",
       "      <td>0.000000</td>\n",
       "      <td>0.000000</td>\n",
       "      <td>0.000000</td>\n",
       "      <td>0.000000</td>\n",
       "      <td>0.000000</td>\n",
       "    </tr>\n",
       "    <tr>\n",
       "      <td>25%</td>\n",
       "      <td>0.000000</td>\n",
       "      <td>0.000000</td>\n",
       "      <td>0.000000</td>\n",
       "      <td>0.000000</td>\n",
       "      <td>0.000000</td>\n",
       "      <td>0.000000</td>\n",
       "    </tr>\n",
       "    <tr>\n",
       "      <td>50%</td>\n",
       "      <td>0.000000</td>\n",
       "      <td>0.000000</td>\n",
       "      <td>0.000000</td>\n",
       "      <td>0.000000</td>\n",
       "      <td>0.000000</td>\n",
       "      <td>0.000000</td>\n",
       "    </tr>\n",
       "    <tr>\n",
       "      <td>75%</td>\n",
       "      <td>1.000000</td>\n",
       "      <td>0.000000</td>\n",
       "      <td>1.000000</td>\n",
       "      <td>0.000000</td>\n",
       "      <td>1.000000</td>\n",
       "      <td>0.000000</td>\n",
       "    </tr>\n",
       "    <tr>\n",
       "      <td>max</td>\n",
       "      <td>4.000000</td>\n",
       "      <td>4.000000</td>\n",
       "      <td>4.000000</td>\n",
       "      <td>4.000000</td>\n",
       "      <td>4.000000</td>\n",
       "      <td>4.000000</td>\n",
       "    </tr>\n",
       "  </tbody>\n",
       "</table>\n",
       "</div>"
      ],
      "text/plain": [
       "           ANERVOUS     AHOPELESS     ARESTLESS          ASAD       AEFFORT  \\\n",
       "count  82561.000000  82561.000000  82561.000000  82561.000000  82561.000000   \n",
       "mean       0.664890      0.241458      0.676579      0.388949      0.563377   \n",
       "std        0.964922      0.674992      1.039506      0.782330      1.022296   \n",
       "min        0.000000      0.000000      0.000000      0.000000      0.000000   \n",
       "25%        0.000000      0.000000      0.000000      0.000000      0.000000   \n",
       "50%        0.000000      0.000000      0.000000      0.000000      0.000000   \n",
       "75%        1.000000      0.000000      1.000000      0.000000      1.000000   \n",
       "max        4.000000      4.000000      4.000000      4.000000      4.000000   \n",
       "\n",
       "         AWORTHLESS  \n",
       "count  82561.000000  \n",
       "mean       0.179516  \n",
       "std        0.599907  \n",
       "min        0.000000  \n",
       "25%        0.000000  \n",
       "50%        0.000000  \n",
       "75%        0.000000  \n",
       "max        4.000000  "
      ]
     },
     "execution_count": 30,
     "metadata": {},
     "output_type": "execute_result"
    }
   ],
   "source": [
    "k6vars = ['ANERVOUS', 'AHOPELESS', 'ARESTLESS','ASAD','AEFFORT','AWORTHLESS']\n",
    "df[k6vars].describe()"
   ]
  },
  {
   "cell_type": "code",
   "execution_count": 31,
   "metadata": {},
   "outputs": [],
   "source": [
    "for var in k6vars:\n",
    "    df[var]=df[var]+1"
   ]
  },
  {
   "cell_type": "code",
   "execution_count": 32,
   "metadata": {},
   "outputs": [
    {
     "data": {
      "text/html": [
       "<div>\n",
       "<style scoped>\n",
       "    .dataframe tbody tr th:only-of-type {\n",
       "        vertical-align: middle;\n",
       "    }\n",
       "\n",
       "    .dataframe tbody tr th {\n",
       "        vertical-align: top;\n",
       "    }\n",
       "\n",
       "    .dataframe thead th {\n",
       "        text-align: right;\n",
       "    }\n",
       "</style>\n",
       "<table border=\"1\" class=\"dataframe\">\n",
       "  <thead>\n",
       "    <tr style=\"text-align: right;\">\n",
       "      <th></th>\n",
       "      <th>ANERVOUS</th>\n",
       "      <th>AHOPELESS</th>\n",
       "      <th>ARESTLESS</th>\n",
       "      <th>ASAD</th>\n",
       "      <th>AEFFORT</th>\n",
       "      <th>AWORTHLESS</th>\n",
       "    </tr>\n",
       "  </thead>\n",
       "  <tbody>\n",
       "    <tr>\n",
       "      <td>count</td>\n",
       "      <td>82561.000000</td>\n",
       "      <td>82561.000000</td>\n",
       "      <td>82561.000000</td>\n",
       "      <td>82561.000000</td>\n",
       "      <td>82561.000000</td>\n",
       "      <td>82561.000000</td>\n",
       "    </tr>\n",
       "    <tr>\n",
       "      <td>mean</td>\n",
       "      <td>1.664890</td>\n",
       "      <td>1.241458</td>\n",
       "      <td>1.676579</td>\n",
       "      <td>1.388949</td>\n",
       "      <td>1.563377</td>\n",
       "      <td>1.179516</td>\n",
       "    </tr>\n",
       "    <tr>\n",
       "      <td>std</td>\n",
       "      <td>0.964922</td>\n",
       "      <td>0.674992</td>\n",
       "      <td>1.039506</td>\n",
       "      <td>0.782330</td>\n",
       "      <td>1.022296</td>\n",
       "      <td>0.599907</td>\n",
       "    </tr>\n",
       "    <tr>\n",
       "      <td>min</td>\n",
       "      <td>1.000000</td>\n",
       "      <td>1.000000</td>\n",
       "      <td>1.000000</td>\n",
       "      <td>1.000000</td>\n",
       "      <td>1.000000</td>\n",
       "      <td>1.000000</td>\n",
       "    </tr>\n",
       "    <tr>\n",
       "      <td>25%</td>\n",
       "      <td>1.000000</td>\n",
       "      <td>1.000000</td>\n",
       "      <td>1.000000</td>\n",
       "      <td>1.000000</td>\n",
       "      <td>1.000000</td>\n",
       "      <td>1.000000</td>\n",
       "    </tr>\n",
       "    <tr>\n",
       "      <td>50%</td>\n",
       "      <td>1.000000</td>\n",
       "      <td>1.000000</td>\n",
       "      <td>1.000000</td>\n",
       "      <td>1.000000</td>\n",
       "      <td>1.000000</td>\n",
       "      <td>1.000000</td>\n",
       "    </tr>\n",
       "    <tr>\n",
       "      <td>75%</td>\n",
       "      <td>2.000000</td>\n",
       "      <td>1.000000</td>\n",
       "      <td>2.000000</td>\n",
       "      <td>1.000000</td>\n",
       "      <td>2.000000</td>\n",
       "      <td>1.000000</td>\n",
       "    </tr>\n",
       "    <tr>\n",
       "      <td>max</td>\n",
       "      <td>5.000000</td>\n",
       "      <td>5.000000</td>\n",
       "      <td>5.000000</td>\n",
       "      <td>5.000000</td>\n",
       "      <td>5.000000</td>\n",
       "      <td>5.000000</td>\n",
       "    </tr>\n",
       "  </tbody>\n",
       "</table>\n",
       "</div>"
      ],
      "text/plain": [
       "           ANERVOUS     AHOPELESS     ARESTLESS          ASAD       AEFFORT  \\\n",
       "count  82561.000000  82561.000000  82561.000000  82561.000000  82561.000000   \n",
       "mean       1.664890      1.241458      1.676579      1.388949      1.563377   \n",
       "std        0.964922      0.674992      1.039506      0.782330      1.022296   \n",
       "min        1.000000      1.000000      1.000000      1.000000      1.000000   \n",
       "25%        1.000000      1.000000      1.000000      1.000000      1.000000   \n",
       "50%        1.000000      1.000000      1.000000      1.000000      1.000000   \n",
       "75%        2.000000      1.000000      2.000000      1.000000      2.000000   \n",
       "max        5.000000      5.000000      5.000000      5.000000      5.000000   \n",
       "\n",
       "         AWORTHLESS  \n",
       "count  82561.000000  \n",
       "mean       1.179516  \n",
       "std        0.599907  \n",
       "min        1.000000  \n",
       "25%        1.000000  \n",
       "50%        1.000000  \n",
       "75%        1.000000  \n",
       "max        5.000000  "
      ]
     },
     "execution_count": 32,
     "metadata": {},
     "output_type": "execute_result"
    }
   ],
   "source": [
    "df[k6vars].describe()"
   ]
  },
  {
   "cell_type": "markdown",
   "metadata": {},
   "source": [
    "this scoring of 1-5 matches the pdf you sent"
   ]
  },
  {
   "cell_type": "code",
   "execution_count": 33,
   "metadata": {},
   "outputs": [],
   "source": [
    "df['k6'] = df['ANERVOUS']+ df['AHOPELESS']+ df['ARESTLESS']+ df['ASAD']+ df['AEFFORT']+ df['AWORTHLESS']"
   ]
  },
  {
   "cell_type": "code",
   "execution_count": 34,
   "metadata": {},
   "outputs": [
    {
     "data": {
      "text/plain": [
       "(array([53197., 11637.,  8630.,  3264.,  2046.,  2069.,   668.,   647.,\n",
       "          186.,   217.]),\n",
       " array([ 6. ,  8.4, 10.8, 13.2, 15.6, 18. , 20.4, 22.8, 25.2, 27.6, 30. ]),\n",
       " <a list of 10 Patch objects>)"
      ]
     },
     "execution_count": 34,
     "metadata": {},
     "output_type": "execute_result"
    },
    {
     "data": {
      "image/png": "[encoded data removed]",
      "text/plain": [
       "<Figure size 432x288 with 1 Axes>"
      ]
     },
     "metadata": {},
     "output_type": "display_data"
    }
   ],
   "source": [
    "plt.hist(df['k6'])"
   ]
  },
  {
   "cell_type": "code",
   "execution_count": 35,
   "metadata": {},
   "outputs": [
    {
     "data": {
      "text/html": [
       "<div>\n",
       "<style scoped>\n",
       "    .dataframe tbody tr th:only-of-type {\n",
       "        vertical-align: middle;\n",
       "    }\n",
       "\n",
       "    .dataframe tbody tr th {\n",
       "        vertical-align: top;\n",
       "    }\n",
       "\n",
       "    .dataframe thead th {\n",
       "        text-align: right;\n",
       "    }\n",
       "</style>\n",
       "<table border=\"1\" class=\"dataframe\">\n",
       "  <thead>\n",
       "    <tr style=\"text-align: right;\">\n",
       "      <th></th>\n",
       "      <th>k6</th>\n",
       "    </tr>\n",
       "  </thead>\n",
       "  <tbody>\n",
       "    <tr>\n",
       "      <td>count</td>\n",
       "      <td>82561.000000</td>\n",
       "    </tr>\n",
       "    <tr>\n",
       "      <td>mean</td>\n",
       "      <td>8.714768</td>\n",
       "    </tr>\n",
       "    <tr>\n",
       "      <td>std</td>\n",
       "      <td>3.869370</td>\n",
       "    </tr>\n",
       "    <tr>\n",
       "      <td>min</td>\n",
       "      <td>6.000000</td>\n",
       "    </tr>\n",
       "    <tr>\n",
       "      <td>25%</td>\n",
       "      <td>6.000000</td>\n",
       "    </tr>\n",
       "    <tr>\n",
       "      <td>50%</td>\n",
       "      <td>7.000000</td>\n",
       "    </tr>\n",
       "    <tr>\n",
       "      <td>75%</td>\n",
       "      <td>10.000000</td>\n",
       "    </tr>\n",
       "    <tr>\n",
       "      <td>max</td>\n",
       "      <td>30.000000</td>\n",
       "    </tr>\n",
       "  </tbody>\n",
       "</table>\n",
       "</div>"
      ],
      "text/plain": [
       "                 k6\n",
       "count  82561.000000\n",
       "mean       8.714768\n",
       "std        3.869370\n",
       "min        6.000000\n",
       "25%        6.000000\n",
       "50%        7.000000\n",
       "75%       10.000000\n",
       "max       30.000000"
      ]
     },
     "execution_count": 35,
     "metadata": {},
     "output_type": "execute_result"
    }
   ],
   "source": [
    "df[['k6']].describe()"
   ]
  },
  {
   "cell_type": "code",
   "execution_count": null,
   "metadata": {},
   "outputs": [],
   "source": []
  },
  {
   "cell_type": "code",
   "execution_count": 36,
   "metadata": {},
   "outputs": [
    {
     "data": {
      "text/plain": [
       "<matplotlib.axes._subplots.AxesSubplot at 0x25cdffe25c8>"
      ]
     },
     "execution_count": 36,
     "metadata": {},
     "output_type": "execute_result"
    },
    {
     "data": {
      "image/png": "[encoded data removed]",
      "text/plain": [
       "<Figure size 432x288 with 1 Axes>"
      ]
     },
     "metadata": {},
     "output_type": "display_data"
    }
   ],
   "source": [
    "k6df  = pd.DataFrame(df.groupby(['YEAR'])['k6'].mean())\n",
    "k6df = k6df.reset_index()\n",
    "k6df.plot(x='YEAR', y='k6')"
   ]
  },
  {
   "cell_type": "markdown",
   "metadata": {},
   "source": [
    "# k6 Analysis\n",
    " \n"
   ]
  },
  {
   "cell_type": "code",
   "execution_count": null,
   "metadata": {},
   "outputs": [],
   "source": []
  },
  {
   "cell_type": "code",
   "execution_count": 37,
   "metadata": {},
   "outputs": [
    {
     "data": {
      "text/plain": [
       "1    74632\n",
       "2     7929\n",
       "Name: SAWMENT, dtype: int64"
      ]
     },
     "execution_count": 37,
     "metadata": {},
     "output_type": "execute_result"
    }
   ],
   "source": [
    "df['SAWMENT'].value_counts()"
   ]
  },
  {
   "cell_type": "code",
   "execution_count": 38,
   "metadata": {},
   "outputs": [
    {
     "data": {
      "text/plain": [
       "1    79718\n",
       "2     2843\n",
       "Name: YBARMENTAL, dtype: int64"
      ]
     },
     "execution_count": 38,
     "metadata": {},
     "output_type": "execute_result"
    }
   ],
   "source": [
    "df['YBARMENTAL'].value_counts()"
   ]
  },
  {
   "cell_type": "code",
   "execution_count": 39,
   "metadata": {},
   "outputs": [],
   "source": [
    "dfSaw = df[df['SAWMENT']==2]\n",
    "dfNoSaw = df[df['SAWMENT']==1]\n",
    "dfYbar  = df[df['YBARMENTAL']==2]\n",
    "dfNoYbar = df[df['YBARMENTAL']==1]"
   ]
  },
  {
   "cell_type": "code",
   "execution_count": 40,
   "metadata": {},
   "outputs": [
    {
     "data": {
      "image/png": "[encoded data removed]",
      "text/plain": [
       "<Figure size 432x288 with 1 Axes>"
      ]
     },
     "metadata": {},
     "output_type": "display_data"
    },
    {
     "data": {
      "text/plain": [
       "<Figure size 648x576 with 0 Axes>"
      ]
     },
     "metadata": {},
     "output_type": "display_data"
    }
   ],
   "source": [
    "plt.hist(dfSaw['k6'], bins=10, color='r', alpha=0.3, label='SawMent')\n",
    "plt.hist(dfNoSaw ['k6'], bins=10, color='b', alpha=0.3, label='No SawMent')\n",
    "plt.legend()\n",
    "plt.xlabel(\"Depression\")\n",
    "plt.ylabel(\"Frequency\")\n",
    "plt.figure(figsize=(9,8))\n",
    "plt.rcParams[\"figure.figsize\"] = [9,6]"
   ]
  },
  {
   "cell_type": "markdown",
   "metadata": {},
   "source": [
    "Comparing the \"SAWMENT\" variable via overlapping histograms is difficult to interpreate, as the count of people who saw a mental health professional is dwarfed by the count of people who did not. "
   ]
  },
  {
   "cell_type": "code",
   "execution_count": 41,
   "metadata": {},
   "outputs": [
    {
     "data": {
      "text/html": [
       "<div>\n",
       "<style scoped>\n",
       "    .dataframe tbody tr th:only-of-type {\n",
       "        vertical-align: middle;\n",
       "    }\n",
       "\n",
       "    .dataframe tbody tr th {\n",
       "        vertical-align: top;\n",
       "    }\n",
       "\n",
       "    .dataframe thead th {\n",
       "        text-align: right;\n",
       "    }\n",
       "</style>\n",
       "<table border=\"1\" class=\"dataframe\">\n",
       "  <thead>\n",
       "    <tr style=\"text-align: right;\">\n",
       "      <th></th>\n",
       "      <th>mean k6</th>\n",
       "      <th>standard dev k6</th>\n",
       "    </tr>\n",
       "  </thead>\n",
       "  <tbody>\n",
       "    <tr>\n",
       "      <td>Sawment</td>\n",
       "      <td>12.357422</td>\n",
       "      <td>5.477330</td>\n",
       "    </tr>\n",
       "    <tr>\n",
       "      <td>No Sament</td>\n",
       "      <td>8.327768</td>\n",
       "      <td>3.437469</td>\n",
       "    </tr>\n",
       "    <tr>\n",
       "      <td>YBar</td>\n",
       "      <td>14.859655</td>\n",
       "      <td>5.914325</td>\n",
       "    </tr>\n",
       "    <tr>\n",
       "      <td>No YBar</td>\n",
       "      <td>8.495622</td>\n",
       "      <td>3.586678</td>\n",
       "    </tr>\n",
       "  </tbody>\n",
       "</table>\n",
       "</div>"
      ],
      "text/plain": [
       "             mean k6  standard dev k6\n",
       "Sawment    12.357422         5.477330\n",
       "No Sament   8.327768         3.437469\n",
       "YBar       14.859655         5.914325\n",
       "No YBar     8.495622         3.586678"
      ]
     },
     "execution_count": 41,
     "metadata": {},
     "output_type": "execute_result"
    }
   ],
   "source": [
    "dfList = [dfSaw, dfNoSaw, dfYbar, dfNoYbar]\n",
    "\n",
    "means = []\n",
    "stDevs = []\n",
    "myIndex = []\n",
    "for frame in dfList:\n",
    "    means.append(frame['k6'].mean())\n",
    "    stDevs.append(frame['k6'].std())\n",
    "rdf = pd.DataFrame({'mean k6':means, 'standard dev k6':stDevs})\n",
    "myIndex = ['Sawment', 'No Sament','YBar','No YBar']\n",
    "rdf.index = myIndex\n",
    "rdf"
   ]
  },
  {
   "cell_type": "markdown",
   "metadata": {},
   "source": [
    "\"Sawment\" measures people who saw a mental health professional, \"YBar\" measures people who say they cannot afford a mental health professional. \n",
    "This table shows poeple with higher k6 scores are more likley to seek a mental health professional and more likely to claim they cannot afford mental health services"
   ]
  },
  {
   "cell_type": "code",
   "execution_count": 42,
   "metadata": {},
   "outputs": [],
   "source": [
    "df['YBARMENTAL'] = df['YBARMENTAL']-1"
   ]
  },
  {
   "cell_type": "code",
   "execution_count": 43,
   "metadata": {},
   "outputs": [
    {
     "data": {
      "text/plain": [
       "0    79718\n",
       "1     2843\n",
       "Name: YBARMENTAL, dtype: int64"
      ]
     },
     "execution_count": 43,
     "metadata": {},
     "output_type": "execute_result"
    }
   ],
   "source": [
    "df['YBARMENTAL'].value_counts()"
   ]
  },
  {
   "cell_type": "code",
   "execution_count": 44,
   "metadata": {},
   "outputs": [],
   "source": [
    "df['SAWMENT'] = df['SAWMENT']-1"
   ]
  },
  {
   "cell_type": "code",
   "execution_count": 45,
   "metadata": {},
   "outputs": [
    {
     "data": {
      "text/plain": [
       "0    74632\n",
       "1     7929\n",
       "Name: SAWMENT, dtype: int64"
      ]
     },
     "execution_count": 45,
     "metadata": {},
     "output_type": "execute_result"
    }
   ],
   "source": [
    "df['SAWMENT'].value_counts()"
   ]
  },
  {
   "cell_type": "code",
   "execution_count": 46,
   "metadata": {},
   "outputs": [
    {
     "data": {
      "text/html": [
       "<div>\n",
       "<style scoped>\n",
       "    .dataframe tbody tr th:only-of-type {\n",
       "        vertical-align: middle;\n",
       "    }\n",
       "\n",
       "    .dataframe tbody tr th {\n",
       "        vertical-align: top;\n",
       "    }\n",
       "\n",
       "    .dataframe thead th {\n",
       "        text-align: right;\n",
       "    }\n",
       "</style>\n",
       "<table border=\"1\" class=\"dataframe\">\n",
       "  <thead>\n",
       "    <tr style=\"text-align: right;\">\n",
       "      <th></th>\n",
       "      <th>YBARMENTAL</th>\n",
       "      <th>SAWMENT</th>\n",
       "      <th>count</th>\n",
       "    </tr>\n",
       "  </thead>\n",
       "  <tbody>\n",
       "    <tr>\n",
       "      <td>0</td>\n",
       "      <td>0</td>\n",
       "      <td>0</td>\n",
       "      <td>72930</td>\n",
       "    </tr>\n",
       "    <tr>\n",
       "      <td>1</td>\n",
       "      <td>0</td>\n",
       "      <td>1</td>\n",
       "      <td>6788</td>\n",
       "    </tr>\n",
       "    <tr>\n",
       "      <td>2</td>\n",
       "      <td>1</td>\n",
       "      <td>0</td>\n",
       "      <td>1702</td>\n",
       "    </tr>\n",
       "    <tr>\n",
       "      <td>3</td>\n",
       "      <td>1</td>\n",
       "      <td>1</td>\n",
       "      <td>1141</td>\n",
       "    </tr>\n",
       "  </tbody>\n",
       "</table>\n",
       "</div>"
      ],
      "text/plain": [
       "   YBARMENTAL  SAWMENT  count\n",
       "0           0        0  72930\n",
       "1           0        1   6788\n",
       "2           1        0   1702\n",
       "3           1        1   1141"
      ]
     },
     "execution_count": 46,
     "metadata": {},
     "output_type": "execute_result"
    }
   ],
   "source": [
    "count_series = df.groupby(['YBARMENTAL','SAWMENT']).size()\n",
    "newdf = count_series.to_frame(name='count').reset_index()\n",
    "newdf"
   ]
  },
  {
   "cell_type": "markdown",
   "metadata": {},
   "source": [
    "You also had mentioned analyzing the number of YBARMENTAL per SAWMENT. According to the table above, roughly half of respondants with YBARMENTAL also SAWMENT"
   ]
  },
  {
   "cell_type": "code",
   "execution_count": 49,
   "metadata": {},
   "outputs": [
    {
     "data": {
      "image/png": "[encoded data removed]",
      "text/plain": [
       "<Figure size 648x432 with 1 Axes>"
      ]
     },
     "metadata": {},
     "output_type": "display_data"
    }
   ],
   "source": [
    "k6Series = pd.DataFrame({'frequency':df['k6'].value_counts().values, 'k6 scores':df['k6'].value_counts().index})\n",
    "k6Series = k6Series.sort_values(by=['k6 scores'])\n",
    "graph = k6Series.plot.bar(x='k6 scores',y='frequency')"
   ]
  },
  {
   "cell_type": "markdown",
   "metadata": {},
   "source": [
    "the vast majority of respondants answer 1 on every k6 question, indicating no issue with  thier mental health. they are likely not being truthful in answering survey questions, but its the best we've got. "
   ]
  },
  {
   "cell_type": "code",
   "execution_count": 50,
   "metadata": {},
   "outputs": [
    {
     "data": {
      "text/plain": [
       "<matplotlib.axes._subplots.AxesSubplot at 0x25ce051f988>"
      ]
     },
     "execution_count": 50,
     "metadata": {},
     "output_type": "execute_result"
    },
    {
     "data": {
      "image/png": "[encoded data removed]",
      "text/plain": [
       "<Figure size 648x432 with 1 Axes>"
      ]
     },
     "metadata": {},
     "output_type": "display_data"
    }
   ],
   "source": [
    "df.groupby(['YEAR'])['k6'].mean().plot()"
   ]
  },
  {
   "cell_type": "markdown",
   "metadata": {},
   "source": [
    "the mean k6 declined steadily between 2010 and 2012 and has been recovering since. "
   ]
  },
  {
   "cell_type": "code",
   "execution_count": 51,
   "metadata": {},
   "outputs": [
    {
     "data": {
      "text/html": [
       "<div>\n",
       "<style scoped>\n",
       "    .dataframe tbody tr th:only-of-type {\n",
       "        vertical-align: middle;\n",
       "    }\n",
       "\n",
       "    .dataframe tbody tr th {\n",
       "        vertical-align: top;\n",
       "    }\n",
       "\n",
       "    .dataframe thead th {\n",
       "        text-align: right;\n",
       "    }\n",
       "</style>\n",
       "<table border=\"1\" class=\"dataframe\">\n",
       "  <thead>\n",
       "    <tr style=\"text-align: right;\">\n",
       "      <th></th>\n",
       "      <th>ANERVOUS</th>\n",
       "      <th>AHOPELESS</th>\n",
       "      <th>ARESTLESS</th>\n",
       "      <th>ASAD</th>\n",
       "      <th>AEFFORT</th>\n",
       "      <th>AWORTHLESS</th>\n",
       "    </tr>\n",
       "  </thead>\n",
       "  <tbody>\n",
       "    <tr>\n",
       "      <td>count</td>\n",
       "      <td>82561.000000</td>\n",
       "      <td>82561.000000</td>\n",
       "      <td>82561.000000</td>\n",
       "      <td>82561.000000</td>\n",
       "      <td>82561.000000</td>\n",
       "      <td>82561.000000</td>\n",
       "    </tr>\n",
       "    <tr>\n",
       "      <td>mean</td>\n",
       "      <td>1.664890</td>\n",
       "      <td>1.241458</td>\n",
       "      <td>1.676579</td>\n",
       "      <td>1.388949</td>\n",
       "      <td>1.563377</td>\n",
       "      <td>1.179516</td>\n",
       "    </tr>\n",
       "    <tr>\n",
       "      <td>std</td>\n",
       "      <td>0.964922</td>\n",
       "      <td>0.674992</td>\n",
       "      <td>1.039506</td>\n",
       "      <td>0.782330</td>\n",
       "      <td>1.022296</td>\n",
       "      <td>0.599907</td>\n",
       "    </tr>\n",
       "    <tr>\n",
       "      <td>min</td>\n",
       "      <td>1.000000</td>\n",
       "      <td>1.000000</td>\n",
       "      <td>1.000000</td>\n",
       "      <td>1.000000</td>\n",
       "      <td>1.000000</td>\n",
       "      <td>1.000000</td>\n",
       "    </tr>\n",
       "    <tr>\n",
       "      <td>25%</td>\n",
       "      <td>1.000000</td>\n",
       "      <td>1.000000</td>\n",
       "      <td>1.000000</td>\n",
       "      <td>1.000000</td>\n",
       "      <td>1.000000</td>\n",
       "      <td>1.000000</td>\n",
       "    </tr>\n",
       "    <tr>\n",
       "      <td>50%</td>\n",
       "      <td>1.000000</td>\n",
       "      <td>1.000000</td>\n",
       "      <td>1.000000</td>\n",
       "      <td>1.000000</td>\n",
       "      <td>1.000000</td>\n",
       "      <td>1.000000</td>\n",
       "    </tr>\n",
       "    <tr>\n",
       "      <td>75%</td>\n",
       "      <td>2.000000</td>\n",
       "      <td>1.000000</td>\n",
       "      <td>2.000000</td>\n",
       "      <td>1.000000</td>\n",
       "      <td>2.000000</td>\n",
       "      <td>1.000000</td>\n",
       "    </tr>\n",
       "    <tr>\n",
       "      <td>max</td>\n",
       "      <td>5.000000</td>\n",
       "      <td>5.000000</td>\n",
       "      <td>5.000000</td>\n",
       "      <td>5.000000</td>\n",
       "      <td>5.000000</td>\n",
       "      <td>5.000000</td>\n",
       "    </tr>\n",
       "  </tbody>\n",
       "</table>\n",
       "</div>"
      ],
      "text/plain": [
       "           ANERVOUS     AHOPELESS     ARESTLESS          ASAD       AEFFORT  \\\n",
       "count  82561.000000  82561.000000  82561.000000  82561.000000  82561.000000   \n",
       "mean       1.664890      1.241458      1.676579      1.388949      1.563377   \n",
       "std        0.964922      0.674992      1.039506      0.782330      1.022296   \n",
       "min        1.000000      1.000000      1.000000      1.000000      1.000000   \n",
       "25%        1.000000      1.000000      1.000000      1.000000      1.000000   \n",
       "50%        1.000000      1.000000      1.000000      1.000000      1.000000   \n",
       "75%        2.000000      1.000000      2.000000      1.000000      2.000000   \n",
       "max        5.000000      5.000000      5.000000      5.000000      5.000000   \n",
       "\n",
       "         AWORTHLESS  \n",
       "count  82561.000000  \n",
       "mean       1.179516  \n",
       "std        0.599907  \n",
       "min        1.000000  \n",
       "25%        1.000000  \n",
       "50%        1.000000  \n",
       "75%        1.000000  \n",
       "max        5.000000  "
      ]
     },
     "execution_count": 51,
     "metadata": {},
     "output_type": "execute_result"
    }
   ],
   "source": [
    "k6vars = ['ANERVOUS', 'AHOPELESS', 'ARESTLESS','ASAD','AEFFORT','AWORTHLESS']\n",
    "df[k6vars].describe()"
   ]
  },
  {
   "cell_type": "code",
   "execution_count": 54,
   "metadata": {},
   "outputs": [
    {
     "name": "stdout",
     "output_type": "stream",
     "text": [
      "Requirement already satisfied: matplotlib in c:\\users\\ashformr\\appdata\\local\\continuum\\anaconda3\\lib\\site-packages (3.1.1)\n",
      "Collecting v3.0.3\n"
     ]
    },
    {
     "name": "stderr",
     "output_type": "stream",
     "text": [
      "  ERROR: Could not find a version that satisfies the requirement v3.0.3 (from versions: none)\n",
      "ERROR: No matching distribution found for v3.0.3\n"
     ]
    }
   ],
   "source": []
  },
  {
   "cell_type": "code",
   "execution_count": 55,
   "metadata": {},
   "outputs": [
    {
     "data": {
      "image/png": "[encoded data removed]",
      "text/plain": [
       "<Figure size 720x792 with 2 Axes>"
      ]
     },
     "metadata": {},
     "output_type": "display_data"
    }
   ],
   "source": [
    "#create resulting dataframe \n",
    "k6df = pd.DataFrame(np.arange(96).reshape(16,6))\n",
    "k6df.columns = k6vars\n",
    "k6df.index = list(range(2003,2019))\n",
    "\n",
    "#generate mean by year of each variable \n",
    "populate = []\n",
    "for var in k6vars:\n",
    "    populate.append(list(df.groupby(['YEAR'])[var].mean()))\n",
    "    \n",
    "k6df = k6df.tail(10) \n",
    "\n",
    "#populate resulting dataframe\n",
    "for i in range(len(populate)):\n",
    "    k6df.iloc[:,i] = populate[i]\n",
    "    \n",
    "#generate heatmap\n",
    "f, ax  = plt.subplots(figsize=(10,11))\n",
    "sns.heatmap(k6df, cmap='coolwarm', annot=True, linewidths = .5)\n",
    "\n",
    "#reformat top and bottom \n",
    "b, t = plt.ylim()\n",
    "b += 0.5 \n",
    "t -= 0.5 \n",
    "plt.ylim(b, t)\n",
    "plt.show() "
   ]
  },
  {
   "cell_type": "markdown",
   "metadata": {},
   "source": [
    " This heatmap shows the mean value of each k6 variable over time. Some variables, like AHOPELESS and AWORTHLESS, ahve been stable over time while ANERVOUS and ARESTLESS have increaed in recent years. "
   ]
  },
  {
   "cell_type": "code",
   "execution_count": 208,
   "metadata": {},
   "outputs": [],
   "source": [
    "dfk6 = dfk6.reset_index()\n",
    "dfInc = dfInc.reset_index()\n",
    "dfInc = dfInc[['YBARMENTAL', 'SAWMENT','count','mean','50%']]"
   ]
  },
  {
   "cell_type": "code",
   "execution_count": 209,
   "metadata": {},
   "outputs": [
    {
     "data": {
      "text/html": [
       "<div>\n",
       "<style scoped>\n",
       "    .dataframe tbody tr th:only-of-type {\n",
       "        vertical-align: middle;\n",
       "    }\n",
       "\n",
       "    .dataframe tbody tr th {\n",
       "        vertical-align: top;\n",
       "    }\n",
       "\n",
       "    .dataframe thead th {\n",
       "        text-align: right;\n",
       "    }\n",
       "</style>\n",
       "<table border=\"1\" class=\"dataframe\">\n",
       "  <thead>\n",
       "    <tr style=\"text-align: right;\">\n",
       "      <th></th>\n",
       "      <th>YBARMENTAL</th>\n",
       "      <th>SAWMENT</th>\n",
       "      <th>count</th>\n",
       "      <th>mean income</th>\n",
       "      <th>median income</th>\n",
       "      <th>k6 mean</th>\n",
       "    </tr>\n",
       "  </thead>\n",
       "  <tbody>\n",
       "    <tr>\n",
       "      <td>0</td>\n",
       "      <td>0</td>\n",
       "      <td>0</td>\n",
       "      <td>72930.0</td>\n",
       "      <td>48100.243779</td>\n",
       "      <td>37000.0</td>\n",
       "      <td>8.195996</td>\n",
       "    </tr>\n",
       "    <tr>\n",
       "      <td>1</td>\n",
       "      <td>0</td>\n",
       "      <td>1</td>\n",
       "      <td>6788.0</td>\n",
       "      <td>47232.754182</td>\n",
       "      <td>35000.0</td>\n",
       "      <td>11.714791</td>\n",
       "    </tr>\n",
       "    <tr>\n",
       "      <td>2</td>\n",
       "      <td>1</td>\n",
       "      <td>0</td>\n",
       "      <td>1702.0</td>\n",
       "      <td>28172.994537</td>\n",
       "      <td>21000.0</td>\n",
       "      <td>13.974148</td>\n",
       "    </tr>\n",
       "    <tr>\n",
       "      <td>3</td>\n",
       "      <td>1</td>\n",
       "      <td>1</td>\n",
       "      <td>1141.0</td>\n",
       "      <td>32255.373424</td>\n",
       "      <td>24007.0</td>\n",
       "      <td>16.180543</td>\n",
       "    </tr>\n",
       "  </tbody>\n",
       "</table>\n",
       "</div>"
      ],
      "text/plain": [
       "   YBARMENTAL  SAWMENT    count   mean income  median income    k6 mean\n",
       "0           0        0  72930.0  48100.243779        37000.0   8.195996\n",
       "1           0        1   6788.0  47232.754182        35000.0  11.714791\n",
       "2           1        0   1702.0  28172.994537        21000.0  13.974148\n",
       "3           1        1   1141.0  32255.373424        24007.0  16.180543"
      ]
     },
     "execution_count": 209,
     "metadata": {},
     "output_type": "execute_result"
    }
   ],
   "source": [
    "df2 = dfInc.rename(columns = {'mean':'mean income','50%':'median income'})\n",
    "df2['k6 mean'] = dfk6['mean']\n",
    "df2"
   ]
  },
  {
   "cell_type": "markdown",
   "metadata": {},
   "source": [
    "Those that say they would like to see a mental health professional but could not afford one (YBARMENTAL of 1) have a mean income much lower than those who could sawy they could afford a mental health professional. Respondants who havent seen a mental health professional and can't afford one have the lowest mean income. \n",
    "k6 scores increase steadily with each row \n"
   ]
  },
  {
   "cell_type": "code",
   "execution_count": 56,
   "metadata": {},
   "outputs": [
    {
     "data": {
      "image/png": "[encoded data removed]",
      "text/plain": [
       "<Figure size 648x432 with 1 Axes>"
      ]
     },
     "metadata": {},
     "output_type": "display_data"
    }
   ],
   "source": [
    "incomeSeries = df.groupby(['k6'])['INCOME_PERSON'].mean()\n",
    "incomeDF = pd.DataFrame({'Mean Income':incomeSeries.values, 'k6 scores':incomeSeries.index})\n",
    "incomeDF = incomeDF.sort_values(by=['k6 scores'])\n",
    "graph = incomeDF.plot.line(x='k6 scores',y='Mean Income')"
   ]
  },
  {
   "cell_type": "markdown",
   "metadata": {},
   "source": [
    "Over the full dataset we see a consistent decline in income is associated with high k6 scores"
   ]
  },
  {
   "cell_type": "markdown",
   "metadata": {},
   "source": [
    "# Family Income Analysis"
   ]
  },
  {
   "cell_type": "code",
   "execution_count": null,
   "metadata": {},
   "outputs": [],
   "source": []
  },
  {
   "cell_type": "code",
   "execution_count": 57,
   "metadata": {},
   "outputs": [
    {
     "data": {
      "text/plain": [
       "1    70744\n",
       "2    11538\n",
       "Name: HIPUBCOVE, dtype: int64"
      ]
     },
     "execution_count": 57,
     "metadata": {},
     "output_type": "execute_result"
    }
   ],
   "source": [
    "df = df[df['HIPUBCOVE']!=9]\n",
    "df['HIPUBCOVE'].value_counts()"
   ]
  },
  {
   "cell_type": "code",
   "execution_count": 58,
   "metadata": {},
   "outputs": [
    {
     "data": {
      "text/plain": [
       "1    63967\n",
       "2    18315\n",
       "Name: HINOTCOVE, dtype: int64"
      ]
     },
     "execution_count": 58,
     "metadata": {},
     "output_type": "execute_result"
    }
   ],
   "source": [
    "df['HINOTCOVE'].value_counts()"
   ]
  },
  {
   "cell_type": "code",
   "execution_count": 59,
   "metadata": {},
   "outputs": [
    {
     "name": "stdout",
     "output_type": "stream",
     "text": [
      "compare family income per person against [personal income] varaible (EARNIMPOINT5)\n"
     ]
    }
   ],
   "source": [
    "print('compare family income per person against [personal income] varaible (EARNIMPOINT5)')"
   ]
  },
  {
   "cell_type": "code",
   "execution_count": null,
   "metadata": {},
   "outputs": [],
   "source": []
  },
  {
   "cell_type": "code",
   "execution_count": 60,
   "metadata": {},
   "outputs": [
    {
     "data": {
      "text/html": [
       "<div>\n",
       "<style scoped>\n",
       "    .dataframe tbody tr th:only-of-type {\n",
       "        vertical-align: middle;\n",
       "    }\n",
       "\n",
       "    .dataframe tbody tr th {\n",
       "        vertical-align: top;\n",
       "    }\n",
       "\n",
       "    .dataframe thead th {\n",
       "        text-align: right;\n",
       "    }\n",
       "</style>\n",
       "<table border=\"1\" class=\"dataframe\">\n",
       "  <thead>\n",
       "    <tr style=\"text-align: right;\">\n",
       "      <th></th>\n",
       "      <th>family income per person</th>\n",
       "      <th>personal income</th>\n",
       "    </tr>\n",
       "  </thead>\n",
       "  <tbody>\n",
       "    <tr>\n",
       "      <td>count</td>\n",
       "      <td>82282.00000</td>\n",
       "      <td>82282.000000</td>\n",
       "    </tr>\n",
       "    <tr>\n",
       "      <td>mean</td>\n",
       "      <td>47472.07737</td>\n",
       "      <td>32802.759218</td>\n",
       "    </tr>\n",
       "    <tr>\n",
       "      <td>std</td>\n",
       "      <td>41158.09331</td>\n",
       "      <td>30741.356165</td>\n",
       "    </tr>\n",
       "    <tr>\n",
       "      <td>min</td>\n",
       "      <td>0.00000</td>\n",
       "      <td>0.000000</td>\n",
       "    </tr>\n",
       "    <tr>\n",
       "      <td>25%</td>\n",
       "      <td>18500.00000</td>\n",
       "      <td>8000.000000</td>\n",
       "    </tr>\n",
       "    <tr>\n",
       "      <td>50%</td>\n",
       "      <td>36000.00000</td>\n",
       "      <td>26000.000000</td>\n",
       "    </tr>\n",
       "    <tr>\n",
       "      <td>75%</td>\n",
       "      <td>63749.00000</td>\n",
       "      <td>48000.000000</td>\n",
       "    </tr>\n",
       "    <tr>\n",
       "      <td>max</td>\n",
       "      <td>246000.00000</td>\n",
       "      <td>149000.000000</td>\n",
       "    </tr>\n",
       "  </tbody>\n",
       "</table>\n",
       "</div>"
      ],
      "text/plain": [
       "       family income per person  personal income\n",
       "count               82282.00000     82282.000000\n",
       "mean                47472.07737     32802.759218\n",
       "std                 41158.09331     30741.356165\n",
       "min                     0.00000         0.000000\n",
       "25%                 18500.00000      8000.000000\n",
       "50%                 36000.00000     26000.000000\n",
       "75%                 63749.00000     48000.000000\n",
       "max                246000.00000    149000.000000"
      ]
     },
     "execution_count": 60,
     "metadata": {},
     "output_type": "execute_result"
    }
   ],
   "source": [
    "dfr = pd.DataFrame(df['INCOME_PERSON'].describe())\n",
    "dfr['personal income'] = pd.DataFrame(df['EARNIMPOINT5'].describe())\n",
    "dfr.rename(columns={'INCOME_PERSON':'family income per person'})"
   ]
  },
  {
   "cell_type": "markdown",
   "metadata": {},
   "source": [
    "median income in US is 31,786 (which closely matches family income per person)\n",
    "the mean income in the US is 48,150 (which which also cosley mathces family income per person). This variable seems to be the best descriptor of income going foreward"
   ]
  },
  {
   "cell_type": "code",
   "execution_count": 61,
   "metadata": {},
   "outputs": [
    {
     "data": {
      "image/png": "[encoded data removed]",
      "text/plain": [
       "<Figure size 648x432 with 1 Axes>"
      ]
     },
     "metadata": {},
     "output_type": "display_data"
    },
    {
     "data": {
      "text/plain": [
       "<Figure size 648x576 with 0 Axes>"
      ]
     },
     "metadata": {},
     "output_type": "display_data"
    }
   ],
   "source": [
    "plt.hist(df[ 'EARNIMPOINT5'], bins=20, color='r', alpha=0.3, label='personal income')\n",
    "plt.hist(df[ 'INCOME_PERSON'], bins=20, color='b', alpha=0.3, label='fam income per person')\n",
    "plt.legend()\n",
    "plt.xlabel(\"Family Income\")\n",
    "plt.ylabel(\"Frequency\")\n",
    "plt.title(\"income comparison\")\n",
    "plt.figure(figsize=(9,8))\n",
    "plt.rcParams[\"figure.figsize\"] = [9,6]"
   ]
  },
  {
   "cell_type": "markdown",
   "metadata": {},
   "source": [
    "thier distributions look similar "
   ]
  },
  {
   "cell_type": "code",
   "execution_count": 62,
   "metadata": {},
   "outputs": [
    {
     "name": "stdout",
     "output_type": "stream",
     "text": [
      "0.7% of family income is zero\n"
     ]
    }
   ],
   "source": [
    "x = len(df[df['INCOME_PERSON']==0])/len(df)\n",
    "\n",
    "print('{:.1%}'.format(x) +' of family income is zero')"
   ]
  },
  {
   "cell_type": "code",
   "execution_count": 63,
   "metadata": {},
   "outputs": [
    {
     "name": "stdout",
     "output_type": "stream",
     "text": [
      "16.8% of personal income is zero\n"
     ]
    }
   ],
   "source": [
    "x = len(df[df['EARNIMPOINT5']==0])/len(df)\n",
    "\n",
    "print('{:.1%}'.format(x) +' of personal income is zero')"
   ]
  },
  {
   "cell_type": "markdown",
   "metadata": {},
   "source": [
    "going forward, we will drop zeros and use family income per person"
   ]
  },
  {
   "cell_type": "code",
   "execution_count": 64,
   "metadata": {},
   "outputs": [],
   "source": [
    "df = df[df['INCOME_PERSON']!=0]"
   ]
  },
  {
   "cell_type": "code",
   "execution_count": 65,
   "metadata": {},
   "outputs": [
    {
     "data": {
      "text/plain": [
       "count     81695.000000\n",
       "mean      47813.176696\n",
       "std       41107.801018\n",
       "min           0.142857\n",
       "25%       19000.000000\n",
       "50%       36000.000000\n",
       "75%       64000.000000\n",
       "max      246000.000000\n",
       "Name: INCOME_PERSON, dtype: float64"
      ]
     },
     "execution_count": 65,
     "metadata": {},
     "output_type": "execute_result"
    }
   ],
   "source": [
    "df['INCOME_PERSON'].describe()"
   ]
  },
  {
   "cell_type": "markdown",
   "metadata": {},
   "source": [
    "# Incorporate Moderator with Family Income Per Person "
   ]
  },
  {
   "cell_type": "code",
   "execution_count": 66,
   "metadata": {},
   "outputs": [
    {
     "data": {
      "text/html": [
       "<div>\n",
       "<style scoped>\n",
       "    .dataframe tbody tr th:only-of-type {\n",
       "        vertical-align: middle;\n",
       "    }\n",
       "\n",
       "    .dataframe tbody tr th {\n",
       "        vertical-align: top;\n",
       "    }\n",
       "\n",
       "    .dataframe thead th {\n",
       "        text-align: right;\n",
       "    }\n",
       "</style>\n",
       "<table border=\"1\" class=\"dataframe\">\n",
       "  <thead>\n",
       "    <tr style=\"text-align: right;\">\n",
       "      <th></th>\n",
       "      <th>INCOME_PERSON</th>\n",
       "    </tr>\n",
       "  </thead>\n",
       "  <tbody>\n",
       "    <tr>\n",
       "      <td>count</td>\n",
       "      <td>81695.000000</td>\n",
       "    </tr>\n",
       "    <tr>\n",
       "      <td>mean</td>\n",
       "      <td>47813.176696</td>\n",
       "    </tr>\n",
       "    <tr>\n",
       "      <td>std</td>\n",
       "      <td>41107.801018</td>\n",
       "    </tr>\n",
       "    <tr>\n",
       "      <td>min</td>\n",
       "      <td>0.142857</td>\n",
       "    </tr>\n",
       "    <tr>\n",
       "      <td>25%</td>\n",
       "      <td>19000.000000</td>\n",
       "    </tr>\n",
       "    <tr>\n",
       "      <td>50%</td>\n",
       "      <td>36000.000000</td>\n",
       "    </tr>\n",
       "    <tr>\n",
       "      <td>75%</td>\n",
       "      <td>64000.000000</td>\n",
       "    </tr>\n",
       "    <tr>\n",
       "      <td>max</td>\n",
       "      <td>246000.000000</td>\n",
       "    </tr>\n",
       "  </tbody>\n",
       "</table>\n",
       "</div>"
      ],
      "text/plain": [
       "       INCOME_PERSON\n",
       "count   81695.000000\n",
       "mean    47813.176696\n",
       "std     41107.801018\n",
       "min         0.142857\n",
       "25%     19000.000000\n",
       "50%     36000.000000\n",
       "75%     64000.000000\n",
       "max    246000.000000"
      ]
     },
     "execution_count": 66,
     "metadata": {},
     "output_type": "execute_result"
    }
   ],
   "source": [
    "edf = pd.DataFrame(df['INCOME_PERSON'].describe())\n",
    "edf"
   ]
  },
  {
   "cell_type": "code",
   "execution_count": 67,
   "metadata": {},
   "outputs": [],
   "source": [
    "quartile25 = int(edf.iloc[4])\n",
    "median = int(edf.iloc[5])\n",
    "quartile75= int(edf.iloc[6])"
   ]
  },
  {
   "cell_type": "code",
   "execution_count": 68,
   "metadata": {},
   "outputs": [],
   "source": [
    "dfq1 = df[df['INCOME_PERSON']<quartile25]\n",
    "dfq2 = df[(df['INCOME_PERSON']>quartile25) & (df['INCOME_PERSON']<median)]\n",
    "dfq3 = df[(df['INCOME_PERSON']>median) & (df['INCOME_PERSON']<quartile75)]\n",
    "dfq4 = df[df['INCOME_PERSON']>quartile75]\n"
   ]
  },
  {
   "cell_type": "code",
   "execution_count": 69,
   "metadata": {},
   "outputs": [
    {
     "data": {
      "text/html": [
       "<div>\n",
       "<style scoped>\n",
       "    .dataframe tbody tr th:only-of-type {\n",
       "        vertical-align: middle;\n",
       "    }\n",
       "\n",
       "    .dataframe tbody tr th {\n",
       "        vertical-align: top;\n",
       "    }\n",
       "\n",
       "    .dataframe thead th {\n",
       "        text-align: right;\n",
       "    }\n",
       "</style>\n",
       "<table border=\"1\" class=\"dataframe\">\n",
       "  <thead>\n",
       "    <tr style=\"text-align: right;\">\n",
       "      <th></th>\n",
       "      <th>mean k6</th>\n",
       "    </tr>\n",
       "  </thead>\n",
       "  <tbody>\n",
       "    <tr>\n",
       "      <td>q1</td>\n",
       "      <td>9.700744</td>\n",
       "    </tr>\n",
       "    <tr>\n",
       "      <td>q2</td>\n",
       "      <td>8.805325</td>\n",
       "    </tr>\n",
       "    <tr>\n",
       "      <td>q3</td>\n",
       "      <td>8.330862</td>\n",
       "    </tr>\n",
       "    <tr>\n",
       "      <td>q4</td>\n",
       "      <td>7.981891</td>\n",
       "    </tr>\n",
       "  </tbody>\n",
       "</table>\n",
       "</div>"
      ],
      "text/plain": [
       "     mean k6\n",
       "q1  9.700744\n",
       "q2  8.805325\n",
       "q3  8.330862\n",
       "q4  7.981891"
      ]
     },
     "execution_count": 69,
     "metadata": {},
     "output_type": "execute_result"
    }
   ],
   "source": [
    "deplist = []\n",
    "for i in ([dfq1, dfq2, dfq3, dfq4]):\n",
    "    deplist.append((i['k6'].mean()))\n",
    "rdf = pd.DataFrame({'mean k6': deplist})\n",
    "rdf.index = ['q1','q2','q3','q4']\n",
    "rdf"
   ]
  },
  {
   "cell_type": "code",
   "execution_count": 70,
   "metadata": {},
   "outputs": [
    {
     "data": {
      "text/plain": [
       "<matplotlib.axes._subplots.AxesSubplot at 0x25ce2a5ab88>"
      ]
     },
     "execution_count": 70,
     "metadata": {},
     "output_type": "execute_result"
    },
    {
     "data": {
      "image/png": "[encoded data removed]",
      "text/plain": [
       "<Figure size 648x432 with 1 Axes>"
      ]
     },
     "metadata": {},
     "output_type": "display_data"
    }
   ],
   "source": [
    "incomeSeries = dfq1.groupby(['YEAR'])['k6'].mean()\n",
    "incomeDF = pd.DataFrame({'k6 q1':incomeSeries.values})\n",
    "incomeDF['k6 q2'] = dfq2.groupby(['YEAR'])['k6'].mean().values\n",
    "incomeDF['k6 q3']=  dfq3.groupby(['YEAR'])['k6'].mean().values\n",
    "incomeDF['k6 q4']=  dfq4.groupby(['YEAR'])['k6'].mean().values\n",
    "incomeDF.index = incomeSeries.index\n",
    "incomeDF.plot()"
   ]
  },
  {
   "cell_type": "markdown",
   "metadata": {},
   "source": [
    "The gap in k6 scores by income quartile does not change year to year "
   ]
  },
  {
   "cell_type": "markdown",
   "metadata": {},
   "source": [
    "# Incorporating Insurance"
   ]
  },
  {
   "cell_type": "code",
   "execution_count": null,
   "metadata": {},
   "outputs": [],
   "source": []
  },
  {
   "cell_type": "code",
   "execution_count": null,
   "metadata": {},
   "outputs": [],
   "source": []
  },
  {
   "cell_type": "code",
   "execution_count": 71,
   "metadata": {},
   "outputs": [
    {
     "data": {
      "text/plain": [
       "[0.5874937965260546,\n",
       " 0.7140973630831643,\n",
       " 0.8634633447031489,\n",
       " 0.9469990675761888]"
      ]
     },
     "execution_count": 71,
     "metadata": {},
     "output_type": "execute_result"
    }
   ],
   "source": [
    "insList = []\n",
    "for i in ([dfq1, dfq2, dfq3, dfq4]):\n",
    "    insList.append(len(i[i['HINOTCOVE']==1])/len(i))\n",
    "insList"
   ]
  },
  {
   "cell_type": "code",
   "execution_count": 72,
   "metadata": {},
   "outputs": [
    {
     "data": {
      "text/plain": [
       "[31.755186104218364, 31.90339756592292, 32.486430372237876, 33.657456936742406]"
      ]
     },
     "execution_count": 72,
     "metadata": {},
     "output_type": "execute_result"
    }
   ],
   "source": [
    "ageList= []\n",
    "for i in ([dfq1, dfq2, dfq3, dfq4]):\n",
    "    ageList.append(i['AGE'].mean())\n",
    "ageList"
   ]
  },
  {
   "cell_type": "code",
   "execution_count": 73,
   "metadata": {},
   "outputs": [
    {
     "data": {
      "text/plain": [
       "[0.34089330024813896,\n",
       " 0.150709939148073,\n",
       " 0.05032379257501607,\n",
       " 0.015753054914854982]"
      ]
     },
     "execution_count": 73,
     "metadata": {},
     "output_type": "execute_result"
    }
   ],
   "source": [
    "pubList = []\n",
    "for i in ([dfq1, dfq2, dfq3, dfq4]):\n",
    "    pubList.append(len(i[i['HIPUBCOVE']==2])/len(i))\n",
    "pubList"
   ]
  },
  {
   "cell_type": "code",
   "execution_count": 74,
   "metadata": {},
   "outputs": [
    {
     "data": {
      "text/html": [
       "<div>\n",
       "<style scoped>\n",
       "    .dataframe tbody tr th:only-of-type {\n",
       "        vertical-align: middle;\n",
       "    }\n",
       "\n",
       "    .dataframe tbody tr th {\n",
       "        vertical-align: top;\n",
       "    }\n",
       "\n",
       "    .dataframe thead th {\n",
       "        text-align: right;\n",
       "    }\n",
       "</style>\n",
       "<table border=\"1\" class=\"dataframe\">\n",
       "  <thead>\n",
       "    <tr style=\"text-align: right;\">\n",
       "      <th></th>\n",
       "      <th>percentage of people insured</th>\n",
       "      <th>percentage on public ins</th>\n",
       "      <th>mean age</th>\n",
       "      <th>max income</th>\n",
       "    </tr>\n",
       "  </thead>\n",
       "  <tbody>\n",
       "    <tr>\n",
       "      <td>q1</td>\n",
       "      <td>0.587494</td>\n",
       "      <td>0.340893</td>\n",
       "      <td>31.755186</td>\n",
       "      <td>19000.0</td>\n",
       "    </tr>\n",
       "    <tr>\n",
       "      <td>q2</td>\n",
       "      <td>0.714097</td>\n",
       "      <td>0.150710</td>\n",
       "      <td>31.903398</td>\n",
       "      <td>36000.0</td>\n",
       "    </tr>\n",
       "    <tr>\n",
       "      <td>q3</td>\n",
       "      <td>0.863463</td>\n",
       "      <td>0.050324</td>\n",
       "      <td>32.486430</td>\n",
       "      <td>64000.0</td>\n",
       "    </tr>\n",
       "    <tr>\n",
       "      <td>q4</td>\n",
       "      <td>0.946999</td>\n",
       "      <td>0.015753</td>\n",
       "      <td>33.657457</td>\n",
       "      <td>246000.0</td>\n",
       "    </tr>\n",
       "  </tbody>\n",
       "</table>\n",
       "</div>"
      ],
      "text/plain": [
       "    percentage of people insured  percentage on public ins   mean age  \\\n",
       "q1                      0.587494                  0.340893  31.755186   \n",
       "q2                      0.714097                  0.150710  31.903398   \n",
       "q3                      0.863463                  0.050324  32.486430   \n",
       "q4                      0.946999                  0.015753  33.657457   \n",
       "\n",
       "    max income  \n",
       "q1     19000.0  \n",
       "q2     36000.0  \n",
       "q3     64000.0  \n",
       "q4    246000.0  "
      ]
     },
     "execution_count": 74,
     "metadata": {},
     "output_type": "execute_result"
    }
   ],
   "source": [
    "rdf = pd.DataFrame({'percentage of people insured':insList, \n",
    "                    'percentage on public ins':pubList ,\n",
    "                    'mean age':ageList,\n",
    "                   'max income':[quartile25, median,  quartile75, df['INCOME_PERSON'].max() ]})\n",
    "rdf.index=['q1', 'q2', 'q3', 'q4']\n",
    "rdf"
   ]
  },
  {
   "cell_type": "code",
   "execution_count": 75,
   "metadata": {},
   "outputs": [],
   "source": [
    "count_series = dfq1.groupby(['YBARMENTAL','HINOTCOVE']).size()\n",
    "newdf = count_series.to_frame(name='count').reset_index()\n"
   ]
  },
  {
   "cell_type": "code",
   "execution_count": 76,
   "metadata": {},
   "outputs": [],
   "source": [
    "count_series = dfq1.groupby(['YBARMENTAL','HIPUBCOVE','HINOTCOVE']).size()\n",
    "newdf = count_series.to_frame(name='count').reset_index()\n"
   ]
  },
  {
   "cell_type": "code",
   "execution_count": 77,
   "metadata": {},
   "outputs": [],
   "source": [
    "counts = list(newdf['count'])\n",
    "totals = []\n",
    "for i in range(3):\n",
    "    totals.append(counts[i]+counts[i+3])\n",
    "for number in range(3):\n",
    "    totals.append(totals[number])\n",
    "percents = []\n",
    "for i in range(len(counts)):\n",
    "    percents.append(counts[i]/totals[i])\n",
    "newdf['percent of ybar'] = percents\n"
   ]
  },
  {
   "cell_type": "code",
   "execution_count": 78,
   "metadata": {},
   "outputs": [],
   "source": [
    "def y_n(your_df):\n",
    "    haspublic = []\n",
    "    for number in list(your_df['HIPUBCOVE']):\n",
    "        if number==2:\n",
    "            haspublic.append('y')\n",
    "        else:\n",
    "            haspublic.append('n')\n",
    "\n",
    "    hasprivate = []\n",
    "    for number in list(your_df['HINOTCOVE']):\n",
    "        if number==1:\n",
    "            hasprivate.append('y')\n",
    "        else:\n",
    "            hasprivate.append('n')\n",
    "    your_df['HIPUBCOVE']=haspublic\n",
    "    your_df['HINOTCOVE']=hasprivate"
   ]
  },
  {
   "cell_type": "code",
   "execution_count": 79,
   "metadata": {},
   "outputs": [],
   "source": [
    "y_n(newdf)"
   ]
  },
  {
   "cell_type": "code",
   "execution_count": 80,
   "metadata": {},
   "outputs": [
    {
     "data": {
      "text/html": [
       "<div>\n",
       "<style scoped>\n",
       "    .dataframe tbody tr th:only-of-type {\n",
       "        vertical-align: middle;\n",
       "    }\n",
       "\n",
       "    .dataframe tbody tr th {\n",
       "        vertical-align: top;\n",
       "    }\n",
       "\n",
       "    .dataframe thead th {\n",
       "        text-align: right;\n",
       "    }\n",
       "</style>\n",
       "<table border=\"1\" class=\"dataframe\">\n",
       "  <thead>\n",
       "    <tr style=\"text-align: right;\">\n",
       "      <th></th>\n",
       "      <th>YBARMENTAL</th>\n",
       "      <th>has public ins</th>\n",
       "      <th>has private ins</th>\n",
       "      <th>count</th>\n",
       "      <th>percent of ybar</th>\n",
       "    </tr>\n",
       "  </thead>\n",
       "  <tbody>\n",
       "    <tr>\n",
       "      <td>0</td>\n",
       "      <td>0</td>\n",
       "      <td>n</td>\n",
       "      <td>y</td>\n",
       "      <td>4774</td>\n",
       "      <td>0.960757</td>\n",
       "    </tr>\n",
       "    <tr>\n",
       "      <td>1</td>\n",
       "      <td>0</td>\n",
       "      <td>n</td>\n",
       "      <td>n</td>\n",
       "      <td>7662</td>\n",
       "      <td>0.921800</td>\n",
       "    </tr>\n",
       "    <tr>\n",
       "      <td>2</td>\n",
       "      <td>0</td>\n",
       "      <td>y</td>\n",
       "      <td>y</td>\n",
       "      <td>6559</td>\n",
       "      <td>0.954870</td>\n",
       "    </tr>\n",
       "    <tr>\n",
       "      <td>3</td>\n",
       "      <td>1</td>\n",
       "      <td>n</td>\n",
       "      <td>y</td>\n",
       "      <td>195</td>\n",
       "      <td>0.039243</td>\n",
       "    </tr>\n",
       "    <tr>\n",
       "      <td>4</td>\n",
       "      <td>1</td>\n",
       "      <td>n</td>\n",
       "      <td>n</td>\n",
       "      <td>650</td>\n",
       "      <td>0.078200</td>\n",
       "    </tr>\n",
       "    <tr>\n",
       "      <td>5</td>\n",
       "      <td>1</td>\n",
       "      <td>y</td>\n",
       "      <td>y</td>\n",
       "      <td>310</td>\n",
       "      <td>0.045130</td>\n",
       "    </tr>\n",
       "  </tbody>\n",
       "</table>\n",
       "</div>"
      ],
      "text/plain": [
       "   YBARMENTAL has public ins has private ins  count  percent of ybar\n",
       "0           0              n               y   4774         0.960757\n",
       "1           0              n               n   7662         0.921800\n",
       "2           0              y               y   6559         0.954870\n",
       "3           1              n               y    195         0.039243\n",
       "4           1              n               n    650         0.078200\n",
       "5           1              y               y    310         0.045130"
      ]
     },
     "execution_count": 80,
     "metadata": {},
     "output_type": "execute_result"
    }
   ],
   "source": [
    "newdf.rename(columns={'HIPUBCOVE':'has public ins', 'HINOTCOVE':'has private ins'})"
   ]
  },
  {
   "cell_type": "markdown",
   "metadata": {},
   "source": [
    "Very few people on private insurance say they cannot afford mental health care. the majority of people who cannot afford care have no insurance"
   ]
  },
  {
   "cell_type": "code",
   "execution_count": 81,
   "metadata": {},
   "outputs": [
    {
     "data": {
      "text/html": [
       "<div>\n",
       "<style scoped>\n",
       "    .dataframe tbody tr th:only-of-type {\n",
       "        vertical-align: middle;\n",
       "    }\n",
       "\n",
       "    .dataframe tbody tr th {\n",
       "        vertical-align: top;\n",
       "    }\n",
       "\n",
       "    .dataframe thead th {\n",
       "        text-align: right;\n",
       "    }\n",
       "</style>\n",
       "<table border=\"1\" class=\"dataframe\">\n",
       "  <thead>\n",
       "    <tr style=\"text-align: right;\">\n",
       "      <th></th>\n",
       "      <th>has public ins</th>\n",
       "      <th>has private ins</th>\n",
       "      <th>count</th>\n",
       "    </tr>\n",
       "  </thead>\n",
       "  <tbody>\n",
       "    <tr>\n",
       "      <td>0</td>\n",
       "      <td>n</td>\n",
       "      <td>y</td>\n",
       "      <td>4969</td>\n",
       "    </tr>\n",
       "    <tr>\n",
       "      <td>1</td>\n",
       "      <td>n</td>\n",
       "      <td>n</td>\n",
       "      <td>8312</td>\n",
       "    </tr>\n",
       "    <tr>\n",
       "      <td>2</td>\n",
       "      <td>y</td>\n",
       "      <td>y</td>\n",
       "      <td>6869</td>\n",
       "    </tr>\n",
       "  </tbody>\n",
       "</table>\n",
       "</div>"
      ],
      "text/plain": [
       "  has public ins has private ins  count\n",
       "0              n               y   4969\n",
       "1              n               n   8312\n",
       "2              y               y   6869"
      ]
     },
     "execution_count": 81,
     "metadata": {},
     "output_type": "execute_result"
    }
   ],
   "source": [
    "insdf = pd.DataFrame(dfq1.groupby(['HIPUBCOVE','HINOTCOVE']).size())\n",
    "insdf.reset_index(inplace=True)\n",
    "y_n(insdf)\n",
    "\n",
    "insdf = insdf.rename(columns={'HIPUBCOVE':'has public ins', 'HINOTCOVE':'has private ins', 0:'count'})\n",
    "insdf"
   ]
  },
  {
   "cell_type": "markdown",
   "metadata": {},
   "source": [
    "40% are describe themselves as not having any insurance"
   ]
  },
  {
   "cell_type": "code",
   "execution_count": 82,
   "metadata": {},
   "outputs": [
    {
     "data": {
      "text/html": [
       "<div>\n",
       "<style scoped>\n",
       "    .dataframe tbody tr th:only-of-type {\n",
       "        vertical-align: middle;\n",
       "    }\n",
       "\n",
       "    .dataframe tbody tr th {\n",
       "        vertical-align: top;\n",
       "    }\n",
       "\n",
       "    .dataframe thead th {\n",
       "        text-align: right;\n",
       "    }\n",
       "</style>\n",
       "<table border=\"1\" class=\"dataframe\">\n",
       "  <thead>\n",
       "    <tr style=\"text-align: right;\">\n",
       "      <th></th>\n",
       "      <th>has public ins</th>\n",
       "      <th>has private ins</th>\n",
       "      <th>mean age</th>\n",
       "    </tr>\n",
       "  </thead>\n",
       "  <tbody>\n",
       "    <tr>\n",
       "      <td>0</td>\n",
       "      <td>n</td>\n",
       "      <td>y</td>\n",
       "      <td>32.614925</td>\n",
       "    </tr>\n",
       "    <tr>\n",
       "      <td>1</td>\n",
       "      <td>n</td>\n",
       "      <td>n</td>\n",
       "      <td>32.172349</td>\n",
       "    </tr>\n",
       "    <tr>\n",
       "      <td>2</td>\n",
       "      <td>y</td>\n",
       "      <td>y</td>\n",
       "      <td>32.148621</td>\n",
       "    </tr>\n",
       "  </tbody>\n",
       "</table>\n",
       "</div>"
      ],
      "text/plain": [
       "  has public ins has private ins   mean age\n",
       "0              n               y  32.614925\n",
       "1              n               n  32.172349\n",
       "2              y               y  32.148621"
      ]
     },
     "execution_count": 82,
     "metadata": {},
     "output_type": "execute_result"
    }
   ],
   "source": [
    "insdf = pd.DataFrame(df.groupby(['HIPUBCOVE','HINOTCOVE'])['AGE'].mean())\n",
    "insdf.reset_index(inplace=True)\n",
    "y_n(insdf)        \n",
    "insdf = insdf.rename(columns={'HIPUBCOVE':'has public ins', 'HINOTCOVE':'has private ins','AGE':'mean age'})\n",
    "insdf"
   ]
  },
  {
   "cell_type": "markdown",
   "metadata": {},
   "source": [
    "the mean age does not change much for those who do or do not have insurance"
   ]
  },
  {
   "cell_type": "markdown",
   "metadata": {},
   "source": [
    "# Logistic Regression "
   ]
  },
  {
   "cell_type": "code",
   "execution_count": 257,
   "metadata": {},
   "outputs": [
    {
     "data": {
      "text/plain": [
       "0    78907\n",
       "1     2788\n",
       "Name: YBARMENTAL, dtype: int64"
      ]
     },
     "execution_count": 257,
     "metadata": {},
     "output_type": "execute_result"
    }
   ],
   "source": [
    "df['YBARMENTAL'].value_counts()"
   ]
  },
  {
   "cell_type": "markdown",
   "metadata": {},
   "source": [
    "The Following steps were taken to get these variables regression-ready:\n",
    "1. take the log of income to fix the scale and distribution \n",
    "2. take the square root of k6 \n",
    "3. create an interaction term using the z scores of both root(k6) and log(income) "
   ]
  },
  {
   "cell_type": "code",
   "execution_count": 258,
   "metadata": {},
   "outputs": [],
   "source": [
    "import statsmodels.api as sm"
   ]
  },
  {
   "cell_type": "code",
   "execution_count": 259,
   "metadata": {},
   "outputs": [
    {
     "data": {
      "text/plain": [
       "81695"
      ]
     },
     "execution_count": 259,
     "metadata": {},
     "output_type": "execute_result"
    }
   ],
   "source": [
    "df = df[df['INCOME_PERSON']!=0]\n",
    "len(df)"
   ]
  },
  {
   "cell_type": "code",
   "execution_count": 260,
   "metadata": {},
   "outputs": [],
   "source": [
    "df['logged_income'] = np.log(df['INCOME_PERSON'])"
   ]
  },
  {
   "cell_type": "code",
   "execution_count": 262,
   "metadata": {},
   "outputs": [],
   "source": [
    "original_len = len(df)\n",
    "df = df.dropna(subset=['INCOME_PERSON'])\n"
   ]
  },
  {
   "cell_type": "code",
   "execution_count": 263,
   "metadata": {},
   "outputs": [
    {
     "data": {
      "text/plain": [
       "1.0"
      ]
     },
     "execution_count": 263,
     "metadata": {},
     "output_type": "execute_result"
    }
   ],
   "source": [
    "len(df)/original_len"
   ]
  },
  {
   "cell_type": "code",
   "execution_count": 264,
   "metadata": {},
   "outputs": [],
   "source": [
    "import math"
   ]
  },
  {
   "cell_type": "code",
   "execution_count": 265,
   "metadata": {},
   "outputs": [],
   "source": [
    "rootArray = []\n",
    "for ob in list(df['k6']):\n",
    "    rootArray.append(math.sqrt(ob))"
   ]
  },
  {
   "cell_type": "code",
   "execution_count": 266,
   "metadata": {},
   "outputs": [
    {
     "data": {
      "text/html": [
       "<div>\n",
       "<style scoped>\n",
       "    .dataframe tbody tr th:only-of-type {\n",
       "        vertical-align: middle;\n",
       "    }\n",
       "\n",
       "    .dataframe tbody tr th {\n",
       "        vertical-align: top;\n",
       "    }\n",
       "\n",
       "    .dataframe thead th {\n",
       "        text-align: right;\n",
       "    }\n",
       "</style>\n",
       "<table border=\"1\" class=\"dataframe\">\n",
       "  <thead>\n",
       "    <tr style=\"text-align: right;\">\n",
       "      <th></th>\n",
       "      <th>k6</th>\n",
       "      <th>k6_root</th>\n",
       "    </tr>\n",
       "  </thead>\n",
       "  <tbody>\n",
       "    <tr>\n",
       "      <td>510976</td>\n",
       "      <td>7</td>\n",
       "      <td>2.645751</td>\n",
       "    </tr>\n",
       "    <tr>\n",
       "      <td>510983</td>\n",
       "      <td>6</td>\n",
       "      <td>2.449490</td>\n",
       "    </tr>\n",
       "    <tr>\n",
       "      <td>511024</td>\n",
       "      <td>9</td>\n",
       "      <td>3.000000</td>\n",
       "    </tr>\n",
       "    <tr>\n",
       "      <td>511057</td>\n",
       "      <td>8</td>\n",
       "      <td>2.828427</td>\n",
       "    </tr>\n",
       "    <tr>\n",
       "      <td>511060</td>\n",
       "      <td>8</td>\n",
       "      <td>2.828427</td>\n",
       "    </tr>\n",
       "  </tbody>\n",
       "</table>\n",
       "</div>"
      ],
      "text/plain": [
       "        k6   k6_root\n",
       "510976   7  2.645751\n",
       "510983   6  2.449490\n",
       "511024   9  3.000000\n",
       "511057   8  2.828427\n",
       "511060   8  2.828427"
      ]
     },
     "execution_count": 266,
     "metadata": {},
     "output_type": "execute_result"
    }
   ],
   "source": [
    "df['k6_root'] = rootArray\n",
    "df[['k6','k6_root']].head()"
   ]
  },
  {
   "cell_type": "code",
   "execution_count": 267,
   "metadata": {},
   "outputs": [
    {
     "data": {
      "text/plain": [
       "(array([35077.,  8525.,  9081.,  5602.,  5933.,  3238.,  3364.,  1944.,\n",
       "         1978.,  1241.,  1165.,  1835.,   538.,   503.,   651.,   219.,\n",
       "          411.,   114.,   129.,   147.]),\n",
       " array([2.44948974, 2.60087653, 2.75226333, 2.90365012, 3.05503691,\n",
       "        3.2064237 , 3.35781049, 3.50919728, 3.66058408, 3.81197087,\n",
       "        3.96335766, 4.11474445, 4.26613124, 4.41751803, 4.56890483,\n",
       "        4.72029162, 4.87167841, 5.0230652 , 5.17445199, 5.32583878,\n",
       "        5.47722558]),\n",
       " <a list of 20 Patch objects>)"
      ]
     },
     "execution_count": 267,
     "metadata": {},
     "output_type": "execute_result"
    },
    {
     "data": {
      "image/png": "[encoded data removed]",
      "text/plain": [
       "<Figure size 648x432 with 1 Axes>"
      ]
     },
     "metadata": {},
     "output_type": "display_data"
    }
   ],
   "source": [
    "plt.hist(df['k6_root'], bins=20)"
   ]
  },
  {
   "cell_type": "code",
   "execution_count": 268,
   "metadata": {},
   "outputs": [],
   "source": [
    "myMean = df['k6_root'].mean()\n",
    "mySD = df['k6_root'].std()\n",
    "rootArray = []\n",
    "for ob in list(df['k6_root']):\n",
    "    rootArray.append((ob-myMean)/mySD)\n",
    "df['k6_root_Z'] = rootArray"
   ]
  },
  {
   "cell_type": "code",
   "execution_count": 269,
   "metadata": {},
   "outputs": [],
   "source": [
    "myMean = df['logged_income'].mean()\n",
    "mySD = df['logged_income'].std()\n",
    "rootArray = []\n",
    "for ob in list(df['logged_income']):\n",
    "    rootArray.append((ob-myMean)/mySD)\n",
    "df['logged_income_Z'] = rootArray"
   ]
  },
  {
   "cell_type": "code",
   "execution_count": 270,
   "metadata": {},
   "outputs": [],
   "source": [
    "df['interaction'] =df['logged_income_Z'] * df['k6_root_Z']"
   ]
  },
  {
   "cell_type": "code",
   "execution_count": null,
   "metadata": {},
   "outputs": [],
   "source": []
  },
  {
   "cell_type": "code",
   "execution_count": 272,
   "metadata": {},
   "outputs": [
    {
     "data": {
      "text/plain": [
       "0.4293653222351429"
      ]
     },
     "execution_count": 272,
     "metadata": {},
     "output_type": "execute_result"
    }
   ],
   "source": [
    "len(df[df['k6']==6])/len(df)"
   ]
  },
  {
   "cell_type": "code",
   "execution_count": 273,
   "metadata": {},
   "outputs": [],
   "source": [
    "df_reg = df[df['YEAR']<2014]"
   ]
  },
  {
   "cell_type": "code",
   "execution_count": 274,
   "metadata": {},
   "outputs": [],
   "source": [
    "df_reg = df_reg.append(df[df['YEAR']>2014])"
   ]
  },
  {
   "cell_type": "code",
   "execution_count": 275,
   "metadata": {},
   "outputs": [
    {
     "data": {
      "text/plain": [
       "2011    9339\n",
       "2012    9313\n",
       "2013    9300\n",
       "2015    8518\n",
       "2009    7790\n",
       "2016    7754\n",
       "2010    7668\n",
       "2017    6391\n",
       "2018    6077\n",
       "Name: YEAR, dtype: int64"
      ]
     },
     "execution_count": 275,
     "metadata": {},
     "output_type": "execute_result"
    }
   ],
   "source": [
    "df_reg['YEAR'].value_counts()"
   ]
  },
  {
   "cell_type": "code",
   "execution_count": 276,
   "metadata": {},
   "outputs": [],
   "source": [
    "df_reg['YEAR_binary'] = np.where(df_reg['YEAR']>2014,1,0)"
   ]
  },
  {
   "cell_type": "code",
   "execution_count": 277,
   "metadata": {},
   "outputs": [
    {
     "data": {
      "text/plain": [
       "<matplotlib.axes._subplots.AxesSubplot at 0x10f7b4153c8>"
      ]
     },
     "execution_count": 277,
     "metadata": {},
     "output_type": "execute_result"
    },
    {
     "data": {
      "image/png": "[encoded data removed]",
      "text/plain": [
       "<Figure size 648x432 with 1 Axes>"
      ]
     },
     "metadata": {},
     "output_type": "display_data"
    }
   ],
   "source": [
    "df_reg.groupby(['YEAR'])['YBARMENTAL'].mean().plot()"
   ]
  },
  {
   "cell_type": "code",
   "execution_count": 278,
   "metadata": {},
   "outputs": [
    {
     "data": {
      "text/html": [
       "<div>\n",
       "<style scoped>\n",
       "    .dataframe tbody tr th:only-of-type {\n",
       "        vertical-align: middle;\n",
       "    }\n",
       "\n",
       "    .dataframe tbody tr th {\n",
       "        vertical-align: top;\n",
       "    }\n",
       "\n",
       "    .dataframe thead th {\n",
       "        text-align: right;\n",
       "    }\n",
       "</style>\n",
       "<table border=\"1\" class=\"dataframe\">\n",
       "  <thead>\n",
       "    <tr style=\"text-align: right;\">\n",
       "      <th></th>\n",
       "      <th>YBARMENTAL</th>\n",
       "    </tr>\n",
       "    <tr>\n",
       "      <th>YEAR_binary</th>\n",
       "      <th></th>\n",
       "    </tr>\n",
       "  </thead>\n",
       "  <tbody>\n",
       "    <tr>\n",
       "      <td>0</td>\n",
       "      <td>0.036651</td>\n",
       "    </tr>\n",
       "    <tr>\n",
       "      <td>1</td>\n",
       "      <td>0.032429</td>\n",
       "    </tr>\n",
       "  </tbody>\n",
       "</table>\n",
       "</div>"
      ],
      "text/plain": [
       "             YBARMENTAL\n",
       "YEAR_binary            \n",
       "0              0.036651\n",
       "1              0.032429"
      ]
     },
     "execution_count": 278,
     "metadata": {},
     "output_type": "execute_result"
    }
   ],
   "source": [
    "pd.DataFrame(df_reg.groupby(['YEAR_binary'])['YBARMENTAL'].mean())"
   ]
  },
  {
   "cell_type": "code",
   "execution_count": 279,
   "metadata": {},
   "outputs": [
    {
     "data": {
      "text/plain": [
       "2011    9339\n",
       "2012    9313\n",
       "2013    9300\n",
       "2009    7790\n",
       "2010    7668\n",
       "Name: YEAR, dtype: int64"
      ]
     },
     "execution_count": 279,
     "metadata": {},
     "output_type": "execute_result"
    }
   ],
   "source": [
    "df_reg[df_reg['YEAR_binary']==0]['YEAR'].value_counts()"
   ]
  },
  {
   "cell_type": "code",
   "execution_count": 286,
   "metadata": {},
   "outputs": [
    {
     "name": "stdout",
     "output_type": "stream",
     "text": [
      "Optimization terminated successfully.\n",
      "         Current function value: 0.129653\n",
      "         Iterations 8\n",
      "                         Results: Logit\n",
      "=================================================================\n",
      "Model:              Logit            Pseudo R-squared: 0.145     \n",
      "Dependent Variable: YBARMENTAL       AIC:              18718.9908\n",
      "Date:               2020-05-07 12:20 BIC:              18764.9233\n",
      "No. Observations:   72150            Log-Likelihood:   -9354.5   \n",
      "Df Model:           4                LL-Null:          -10939.   \n",
      "Df Residuals:       72145            LLR p-value:      0.0000    \n",
      "Converged:          1.0000           Scale:            1.0000    \n",
      "No. Iterations:     8.0000                                       \n",
      "-----------------------------------------------------------------\n",
      "                  Coef.  Std.Err.    z     P>|z|   [0.025  0.975]\n",
      "-----------------------------------------------------------------\n",
      "logged_income    -0.7573   0.0111 -67.9503 0.0000 -0.7791 -0.7354\n",
      "k6_root           1.3473   0.0302  44.6540 0.0000  1.2881  1.4064\n",
      "interaction       0.1590   0.0114  13.9318 0.0000  0.1366  0.1813\n",
      "YEAR_binary      -0.1726   0.0443  -3.8916 0.0001 -0.2595 -0.0857\n",
      "HINOTCOVE         0.0996   0.0404   2.4660 0.0137  0.0204  0.1787\n",
      "=================================================================\n",
      "\n"
     ]
    }
   ],
   "source": [
    "IV = ['logged_income', 'k6_root', 'interaction','YEAR_binary', 'HINOTCOVE' ]\n",
    "DV = ['YBARMENTAL']\n",
    "X = df_reg[IV]\n",
    "y = df_reg[DV]\n",
    "logit_model=sm.Logit(y,X.astype(float))\n",
    "result=logit_model.fit()\n",
    "print(result.summary2())"
   ]
  },
  {
   "cell_type": "markdown",
   "metadata": {},
   "source": [
    "All variables are significant except for insurance(HINOTCOVE). The indpendent varialbe measures those who said they wanted mental health care but could nto afford it. If your income increases you are more likely to be able to afford care. As your mental health gets words(increase in k6) you are less likely to be able to afford care. the interactin between these terms is significant. Most interesting is the negative coefficient on the YEAR_binary variable. this variable is 0 before 2014 and 1 after. 2014 was picked as the year the Affordable Care Act was implemented. The negative coeffiecnt indicates that people were more likely to afford mental health care as a result of the ACA implementation. \n"
   ]
  },
  {
   "cell_type": "code",
   "execution_count": null,
   "metadata": {},
   "outputs": [],
   "source": []
  },
  {
   "cell_type": "markdown",
   "metadata": {},
   "source": [
    "# Health Insurance Comparison 2010 - 2016"
   ]
  },
  {
   "cell_type": "code",
   "execution_count": 287,
   "metadata": {},
   "outputs": [
    {
     "data": {
      "text/html": [
       "<div>\n",
       "<style scoped>\n",
       "    .dataframe tbody tr th:only-of-type {\n",
       "        vertical-align: middle;\n",
       "    }\n",
       "\n",
       "    .dataframe tbody tr th {\n",
       "        vertical-align: top;\n",
       "    }\n",
       "\n",
       "    .dataframe thead th {\n",
       "        text-align: right;\n",
       "    }\n",
       "</style>\n",
       "<table border=\"1\" class=\"dataframe\">\n",
       "  <thead>\n",
       "    <tr style=\"text-align: right;\">\n",
       "      <th></th>\n",
       "      <th>YEAR</th>\n",
       "      <th>YBARMENTAL</th>\n",
       "    </tr>\n",
       "  </thead>\n",
       "  <tbody>\n",
       "    <tr>\n",
       "      <td>0</td>\n",
       "      <td>2009</td>\n",
       "      <td>0.038639</td>\n",
       "    </tr>\n",
       "    <tr>\n",
       "      <td>1</td>\n",
       "      <td>2010</td>\n",
       "      <td>0.039254</td>\n",
       "    </tr>\n",
       "    <tr>\n",
       "      <td>2</td>\n",
       "      <td>2011</td>\n",
       "      <td>0.037906</td>\n",
       "    </tr>\n",
       "    <tr>\n",
       "      <td>3</td>\n",
       "      <td>2012</td>\n",
       "      <td>0.037367</td>\n",
       "    </tr>\n",
       "    <tr>\n",
       "      <td>4</td>\n",
       "      <td>2013</td>\n",
       "      <td>0.030860</td>\n",
       "    </tr>\n",
       "    <tr>\n",
       "      <td>5</td>\n",
       "      <td>2014</td>\n",
       "      <td>0.027763</td>\n",
       "    </tr>\n",
       "    <tr>\n",
       "      <td>6</td>\n",
       "      <td>2015</td>\n",
       "      <td>0.029232</td>\n",
       "    </tr>\n",
       "    <tr>\n",
       "      <td>7</td>\n",
       "      <td>2016</td>\n",
       "      <td>0.027212</td>\n",
       "    </tr>\n",
       "    <tr>\n",
       "      <td>8</td>\n",
       "      <td>2017</td>\n",
       "      <td>0.031920</td>\n",
       "    </tr>\n",
       "    <tr>\n",
       "      <td>9</td>\n",
       "      <td>2018</td>\n",
       "      <td>0.044101</td>\n",
       "    </tr>\n",
       "  </tbody>\n",
       "</table>\n",
       "</div>"
      ],
      "text/plain": [
       "   YEAR  YBARMENTAL\n",
       "0  2009    0.038639\n",
       "1  2010    0.039254\n",
       "2  2011    0.037906\n",
       "3  2012    0.037367\n",
       "4  2013    0.030860\n",
       "5  2014    0.027763\n",
       "6  2015    0.029232\n",
       "7  2016    0.027212\n",
       "8  2017    0.031920\n",
       "9  2018    0.044101"
      ]
     },
     "execution_count": 287,
     "metadata": {},
     "output_type": "execute_result"
    }
   ],
   "source": [
    "dfByYear = pd.DataFrame(df.groupby(['YEAR'])['YBARMENTAL'].mean())\n",
    "dfByYear.reset_index()"
   ]
  },
  {
   "cell_type": "code",
   "execution_count": 288,
   "metadata": {},
   "outputs": [],
   "source": [
    "df['HINOTCOVE'] = df['HINOTCOVE']-1"
   ]
  },
  {
   "cell_type": "code",
   "execution_count": 289,
   "metadata": {},
   "outputs": [],
   "source": [
    "dfByYear['Mean Ins'] = df.groupby(['YEAR'])['HINOTCOVE'].mean().values"
   ]
  },
  {
   "cell_type": "code",
   "execution_count": 290,
   "metadata": {},
   "outputs": [
    {
     "data": {
      "text/html": [
       "<div>\n",
       "<style scoped>\n",
       "    .dataframe tbody tr th:only-of-type {\n",
       "        vertical-align: middle;\n",
       "    }\n",
       "\n",
       "    .dataframe tbody tr th {\n",
       "        vertical-align: top;\n",
       "    }\n",
       "\n",
       "    .dataframe thead th {\n",
       "        text-align: right;\n",
       "    }\n",
       "</style>\n",
       "<table border=\"1\" class=\"dataframe\">\n",
       "  <thead>\n",
       "    <tr style=\"text-align: right;\">\n",
       "      <th></th>\n",
       "      <th>YBARMENTAL</th>\n",
       "      <th>Mean Ins</th>\n",
       "    </tr>\n",
       "    <tr>\n",
       "      <th>YEAR</th>\n",
       "      <th></th>\n",
       "      <th></th>\n",
       "    </tr>\n",
       "  </thead>\n",
       "  <tbody>\n",
       "    <tr>\n",
       "      <td>2009</td>\n",
       "      <td>0.038639</td>\n",
       "      <td>0.271759</td>\n",
       "    </tr>\n",
       "    <tr>\n",
       "      <td>2010</td>\n",
       "      <td>0.039254</td>\n",
       "      <td>0.267866</td>\n",
       "    </tr>\n",
       "    <tr>\n",
       "      <td>2011</td>\n",
       "      <td>0.037906</td>\n",
       "      <td>0.264268</td>\n",
       "    </tr>\n",
       "    <tr>\n",
       "      <td>2012</td>\n",
       "      <td>0.037367</td>\n",
       "      <td>0.270160</td>\n",
       "    </tr>\n",
       "    <tr>\n",
       "      <td>2013</td>\n",
       "      <td>0.030860</td>\n",
       "      <td>0.260215</td>\n",
       "    </tr>\n",
       "    <tr>\n",
       "      <td>2014</td>\n",
       "      <td>0.027763</td>\n",
       "      <td>0.220010</td>\n",
       "    </tr>\n",
       "    <tr>\n",
       "      <td>2015</td>\n",
       "      <td>0.029232</td>\n",
       "      <td>0.175276</td>\n",
       "    </tr>\n",
       "    <tr>\n",
       "      <td>2016</td>\n",
       "      <td>0.027212</td>\n",
       "      <td>0.140831</td>\n",
       "    </tr>\n",
       "    <tr>\n",
       "      <td>2017</td>\n",
       "      <td>0.031920</td>\n",
       "      <td>0.146612</td>\n",
       "    </tr>\n",
       "    <tr>\n",
       "      <td>2018</td>\n",
       "      <td>0.044101</td>\n",
       "      <td>0.148099</td>\n",
       "    </tr>\n",
       "  </tbody>\n",
       "</table>\n",
       "</div>"
      ],
      "text/plain": [
       "      YBARMENTAL  Mean Ins\n",
       "YEAR                      \n",
       "2009    0.038639  0.271759\n",
       "2010    0.039254  0.267866\n",
       "2011    0.037906  0.264268\n",
       "2012    0.037367  0.270160\n",
       "2013    0.030860  0.260215\n",
       "2014    0.027763  0.220010\n",
       "2015    0.029232  0.175276\n",
       "2016    0.027212  0.140831\n",
       "2017    0.031920  0.146612\n",
       "2018    0.044101  0.148099"
      ]
     },
     "execution_count": 290,
     "metadata": {},
     "output_type": "execute_result"
    }
   ],
   "source": [
    "dfByYear"
   ]
  },
  {
   "cell_type": "code",
   "execution_count": 291,
   "metadata": {},
   "outputs": [
    {
     "data": {
      "text/plain": [
       "<matplotlib.axes._subplots.AxesSubplot at 0x10f7b2de8c8>"
      ]
     },
     "execution_count": 291,
     "metadata": {},
     "output_type": "execute_result"
    },
    {
     "data": {
      "image/png": "[encoded data removed]",
      "text/plain": [
       "<Figure size 648x432 with 1 Axes>"
      ]
     },
     "metadata": {},
     "output_type": "display_data"
    }
   ],
   "source": [
    "dfByYear.plot()"
   ]
  },
  {
   "cell_type": "markdown",
   "metadata": {},
   "source": [
    "This last graph shows that, as fewer people have insurance, the percentage of them that say they cannot afford health insurance increases. "
   ]
  },
  {
   "cell_type": "code",
   "execution_count": null,
   "metadata": {},
   "outputs": [],
   "source": []
  }
 ],
 "metadata": {
  "kernelspec": {
   "display_name": "Python 3",
   "language": "python",
   "name": "python3"
  },
  "language_info": {
   "codemirror_mode": {
    "name": "ipython",
    "version": 3
   },
   "file_extension": ".py",
   "mimetype": "text/x-python",
   "name": "python",
   "nbconvert_exporter": "python",
   "pygments_lexer": "ipython3",
   "version": "3.7.4"
  }
 },
 "nbformat": 4,
 "nbformat_minor": 2
}
